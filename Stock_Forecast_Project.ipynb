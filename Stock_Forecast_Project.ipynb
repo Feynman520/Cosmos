{
  "nbformat": 4,
  "nbformat_minor": 0,
  "metadata": {
    "colab": {
      "name": "Stock Forecast Project.ipynb",
      "provenance": [],
      "collapsed_sections": [],
      "authorship_tag": "ABX9TyOXcCQcf9YWMbGRNGl2Xu9+",
      "include_colab_link": true
    },
    "kernelspec": {
      "name": "python3",
      "display_name": "Python 3"
    },
    "language_info": {
      "name": "python"
    }
  },
  "cells": [
    {
      "cell_type": "markdown",
      "metadata": {
        "id": "view-in-github",
        "colab_type": "text"
      },
      "source": [
        "<a href=\"https://colab.research.google.com/github/Feynman520/Cosmos/blob/main/Stock_Forecast_Project.ipynb\" target=\"_parent\"><img src=\"https://colab.research.google.com/assets/colab-badge.svg\" alt=\"Open In Colab\"/></a>"
      ]
    },
    {
      "cell_type": "markdown",
      "source": [
        "# File Upload"
      ],
      "metadata": {
        "id": "xPTwAr-YlNxH"
      }
    },
    {
      "cell_type": "code",
      "source": [
        "from google.colab import files\n",
        "upload = files.upload()"
      ],
      "metadata": {
        "colab": {
          "resources": {
            "http://localhost:8080/nbextensions/google.colab/files.js": {
              "data": "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",
              "ok": true,
              "headers": [
                [
                  "content-type",
                  "application/javascript"
                ]
              ],
              "status": 200,
              "status_text": ""
            }
          },
          "base_uri": "https://localhost:8080/",
          "height": 77
        },
        "id": "WklMQB7FcMfX",
        "outputId": "b62b30d6-c64b-482c-ffa6-580db5b4a412"
      },
      "execution_count": 24,
      "outputs": [
        {
          "output_type": "display_data",
          "data": {
            "text/html": [
              "\n",
              "     <input type=\"file\" id=\"files-eb9c2237-a316-4653-b151-513518aa427e\" name=\"files[]\" multiple disabled\n",
              "        style=\"border:none\" />\n",
              "     <output id=\"result-eb9c2237-a316-4653-b151-513518aa427e\">\n",
              "      Upload widget is only available when the cell has been executed in the\n",
              "      current browser session. Please rerun this cell to enable.\n",
              "      </output>\n",
              "      <script src=\"/nbextensions/google.colab/files.js\"></script> "
            ],
            "text/plain": [
              "<IPython.core.display.HTML object>"
            ]
          },
          "metadata": {}
        },
        {
          "output_type": "stream",
          "name": "stdout",
          "text": [
            "Saving sk hynix stock.csv to sk hynix stock (1).csv\n"
          ]
        }
      ]
    },
    {
      "cell_type": "markdown",
      "source": [
        "# Import Library"
      ],
      "metadata": {
        "id": "jwfNWeL2lTUR"
      }
    },
    {
      "cell_type": "code",
      "source": [
        "import pandas as pd\n",
        "import numpy as np\n",
        "import matplotlib.pyplot as plt\n",
        "from keras.models import Sequential\n",
        "from keras.layers import LSTM, Dropout, Dense, Activation\n",
        "# from keras.callbacks import TensorBoard, ModelCheckpoint, ReduceLROnPlateau\n",
        "import datetime"
      ],
      "metadata": {
        "id": "RRiG1R4x3NUq"
      },
      "execution_count": 25,
      "outputs": []
    },
    {
      "cell_type": "markdown",
      "source": [
        "\n",
        "\n",
        "*   pandas : 데이터 분석을 위한 라이브러리\n",
        "*   numpy : 행렬 연산을 위한 라이브러리\n",
        "*   matplotlib : 예측 결과를 시각화하기 위한 라이브러리\n",
        "*   keras : 딥러닝 모델을 간편하게 사용하기 위한 프레임워크\n",
        "*   datetime : 년월일 시간을 다루기 위한 라이브러리\n",
        "\n"
      ],
      "metadata": {
        "id": "ZaJi6Bg6lFYY"
      }
    },
    {
      "cell_type": "markdown",
      "source": [
        "# Laod Dataset"
      ],
      "metadata": {
        "id": "PTDaIt_NnJaH"
      }
    },
    {
      "cell_type": "code",
      "source": [
        "data = pd.read_csv('sk hynix stock.csv')\n",
        "display(data.head())\n",
        "data_index = data.index\n",
        "print(\"데이터 전체 행의 수 : \",len(data_index))"
      ],
      "metadata": {
        "colab": {
          "base_uri": "https://localhost:8080/",
          "height": 224
        },
        "id": "RGwGeNvocjMP",
        "outputId": "b6c27165-26e9-4abb-cfb4-5b3a9b2c4da6"
      },
      "execution_count": 26,
      "outputs": [
        {
          "output_type": "display_data",
          "data": {
            "text/html": [
              "\n",
              "  <div id=\"df-0c1ba393-7e67-4705-a8ae-77137d913865\">\n",
              "    <div class=\"colab-df-container\">\n",
              "      <div>\n",
              "<style scoped>\n",
              "    .dataframe tbody tr th:only-of-type {\n",
              "        vertical-align: middle;\n",
              "    }\n",
              "\n",
              "    .dataframe tbody tr th {\n",
              "        vertical-align: top;\n",
              "    }\n",
              "\n",
              "    .dataframe thead th {\n",
              "        text-align: right;\n",
              "    }\n",
              "</style>\n",
              "<table border=\"1\" class=\"dataframe\">\n",
              "  <thead>\n",
              "    <tr style=\"text-align: right;\">\n",
              "      <th></th>\n",
              "      <th>Date</th>\n",
              "      <th>Open</th>\n",
              "      <th>High</th>\n",
              "      <th>Low</th>\n",
              "      <th>Close</th>\n",
              "      <th>Adj Close</th>\n",
              "      <th>Volume</th>\n",
              "    </tr>\n",
              "  </thead>\n",
              "  <tbody>\n",
              "    <tr>\n",
              "      <th>0</th>\n",
              "      <td>2017-02-13</td>\n",
              "      <td>49550.0</td>\n",
              "      <td>51000.0</td>\n",
              "      <td>49500.0</td>\n",
              "      <td>50700.0</td>\n",
              "      <td>47186.460938</td>\n",
              "      <td>4124290</td>\n",
              "    </tr>\n",
              "    <tr>\n",
              "      <th>1</th>\n",
              "      <td>2017-02-14</td>\n",
              "      <td>51100.0</td>\n",
              "      <td>51600.0</td>\n",
              "      <td>48100.0</td>\n",
              "      <td>48450.0</td>\n",
              "      <td>45092.390625</td>\n",
              "      <td>8593878</td>\n",
              "    </tr>\n",
              "    <tr>\n",
              "      <th>2</th>\n",
              "      <td>2017-02-15</td>\n",
              "      <td>48300.0</td>\n",
              "      <td>48700.0</td>\n",
              "      <td>47550.0</td>\n",
              "      <td>47900.0</td>\n",
              "      <td>44580.507813</td>\n",
              "      <td>8725221</td>\n",
              "    </tr>\n",
              "    <tr>\n",
              "      <th>3</th>\n",
              "      <td>2017-02-16</td>\n",
              "      <td>48350.0</td>\n",
              "      <td>49600.0</td>\n",
              "      <td>48200.0</td>\n",
              "      <td>49600.0</td>\n",
              "      <td>46162.695313</td>\n",
              "      <td>4840918</td>\n",
              "    </tr>\n",
              "    <tr>\n",
              "      <th>4</th>\n",
              "      <td>2017-02-17</td>\n",
              "      <td>50400.0</td>\n",
              "      <td>51100.0</td>\n",
              "      <td>50200.0</td>\n",
              "      <td>50400.0</td>\n",
              "      <td>46907.257813</td>\n",
              "      <td>4927937</td>\n",
              "    </tr>\n",
              "  </tbody>\n",
              "</table>\n",
              "</div>\n",
              "      <button class=\"colab-df-convert\" onclick=\"convertToInteractive('df-0c1ba393-7e67-4705-a8ae-77137d913865')\"\n",
              "              title=\"Convert this dataframe to an interactive table.\"\n",
              "              style=\"display:none;\">\n",
              "        \n",
              "  <svg xmlns=\"http://www.w3.org/2000/svg\" height=\"24px\"viewBox=\"0 0 24 24\"\n",
              "       width=\"24px\">\n",
              "    <path d=\"M0 0h24v24H0V0z\" fill=\"none\"/>\n",
              "    <path d=\"M18.56 5.44l.94 2.06.94-2.06 2.06-.94-2.06-.94-.94-2.06-.94 2.06-2.06.94zm-11 1L8.5 8.5l.94-2.06 2.06-.94-2.06-.94L8.5 2.5l-.94 2.06-2.06.94zm10 10l.94 2.06.94-2.06 2.06-.94-2.06-.94-.94-2.06-.94 2.06-2.06.94z\"/><path d=\"M17.41 7.96l-1.37-1.37c-.4-.4-.92-.59-1.43-.59-.52 0-1.04.2-1.43.59L10.3 9.45l-7.72 7.72c-.78.78-.78 2.05 0 2.83L4 21.41c.39.39.9.59 1.41.59.51 0 1.02-.2 1.41-.59l7.78-7.78 2.81-2.81c.8-.78.8-2.07 0-2.86zM5.41 20L4 18.59l7.72-7.72 1.47 1.35L5.41 20z\"/>\n",
              "  </svg>\n",
              "      </button>\n",
              "      \n",
              "  <style>\n",
              "    .colab-df-container {\n",
              "      display:flex;\n",
              "      flex-wrap:wrap;\n",
              "      gap: 12px;\n",
              "    }\n",
              "\n",
              "    .colab-df-convert {\n",
              "      background-color: #E8F0FE;\n",
              "      border: none;\n",
              "      border-radius: 50%;\n",
              "      cursor: pointer;\n",
              "      display: none;\n",
              "      fill: #1967D2;\n",
              "      height: 32px;\n",
              "      padding: 0 0 0 0;\n",
              "      width: 32px;\n",
              "    }\n",
              "\n",
              "    .colab-df-convert:hover {\n",
              "      background-color: #E2EBFA;\n",
              "      box-shadow: 0px 1px 2px rgba(60, 64, 67, 0.3), 0px 1px 3px 1px rgba(60, 64, 67, 0.15);\n",
              "      fill: #174EA6;\n",
              "    }\n",
              "\n",
              "    [theme=dark] .colab-df-convert {\n",
              "      background-color: #3B4455;\n",
              "      fill: #D2E3FC;\n",
              "    }\n",
              "\n",
              "    [theme=dark] .colab-df-convert:hover {\n",
              "      background-color: #434B5C;\n",
              "      box-shadow: 0px 1px 3px 1px rgba(0, 0, 0, 0.15);\n",
              "      filter: drop-shadow(0px 1px 2px rgba(0, 0, 0, 0.3));\n",
              "      fill: #FFFFFF;\n",
              "    }\n",
              "  </style>\n",
              "\n",
              "      <script>\n",
              "        const buttonEl =\n",
              "          document.querySelector('#df-0c1ba393-7e67-4705-a8ae-77137d913865 button.colab-df-convert');\n",
              "        buttonEl.style.display =\n",
              "          google.colab.kernel.accessAllowed ? 'block' : 'none';\n",
              "\n",
              "        async function convertToInteractive(key) {\n",
              "          const element = document.querySelector('#df-0c1ba393-7e67-4705-a8ae-77137d913865');\n",
              "          const dataTable =\n",
              "            await google.colab.kernel.invokeFunction('convertToInteractive',\n",
              "                                                     [key], {});\n",
              "          if (!dataTable) return;\n",
              "\n",
              "          const docLinkHtml = 'Like what you see? Visit the ' +\n",
              "            '<a target=\"_blank\" href=https://colab.research.google.com/notebooks/data_table.ipynb>data table notebook</a>'\n",
              "            + ' to learn more about interactive tables.';\n",
              "          element.innerHTML = '';\n",
              "          dataTable['output_type'] = 'display_data';\n",
              "          await google.colab.output.renderOutput(dataTable, element);\n",
              "          const docLink = document.createElement('div');\n",
              "          docLink.innerHTML = docLinkHtml;\n",
              "          element.appendChild(docLink);\n",
              "        }\n",
              "      </script>\n",
              "    </div>\n",
              "  </div>\n",
              "  "
            ],
            "text/plain": [
              "         Date     Open     High      Low    Close     Adj Close   Volume\n",
              "0  2017-02-13  49550.0  51000.0  49500.0  50700.0  47186.460938  4124290\n",
              "1  2017-02-14  51100.0  51600.0  48100.0  48450.0  45092.390625  8593878\n",
              "2  2017-02-15  48300.0  48700.0  47550.0  47900.0  44580.507813  8725221\n",
              "3  2017-02-16  48350.0  49600.0  48200.0  49600.0  46162.695313  4840918\n",
              "4  2017-02-17  50400.0  51100.0  50200.0  50400.0  46907.257813  4927937"
            ]
          },
          "metadata": {}
        },
        {
          "output_type": "stream",
          "name": "stdout",
          "text": [
            "데이터 전체 행의 수 :  1225\n"
          ]
        }
      ]
    },
    {
      "cell_type": "markdown",
      "source": [
        "\n",
        "\n",
        "*   data : 학습, 예측에 사용할 시계열 데이터.\n",
        "*   저장된 시계열 데이터의 앞부분 1~5번째 데이터를 출력해 확인합니다.\n",
        "*   data_index : 데이터의 인덱스 행.\n",
        "*   저장된 data_index의 길이 즉, 데이터의 수를 확인합니다.\n",
        "\n",
        "▶ sk 하이닉스의 5년치 데이터는 날짜(Data), 시작가(Open), 최고가(Hige), 최저가(Low), 마감가(Close), 수정 종가(Adj Close), 거래 총량(Volume)라는 Feature들로 구성되어 있습니다.<br/>\n",
        "▶ sk 하이닉스의 5년치 데이터는 총 1225개입니다."
      ],
      "metadata": {
        "id": "RNldbI9wnOCG"
      }
    },
    {
      "cell_type": "markdown",
      "source": [
        "# Compute Mid Price"
      ],
      "metadata": {
        "id": "i3kr_gmWoA8J"
      }
    },
    {
      "cell_type": "code",
      "source": [
        "high_prices = data['High'].values\n",
        "low_prices = data['Low'].values\n",
        "mid_prices = (high_prices + low_prices) / 2"
      ],
      "metadata": {
        "id": "E3jRoVW5clRe"
      },
      "execution_count": 27,
      "outputs": []
    },
    {
      "cell_type": "markdown",
      "source": [
        "\n",
        "\n",
        "*   high_prices : sk 하이닉스 데이터의 3열인 최고가(High)에 해당하는 5년치 데이터의 값.\n",
        "*   Low_prices : sk 하이닉스 데이터의 4열인 최저가(Low)에 해당하는 5년치 데이터의 값.\n",
        "*   mid_prices : 우리가 학습하고 예측에 사용할 하루의 최고값과 최저값의 평균인 중간값.\n",
        "\n"
      ],
      "metadata": {
        "id": "rxCpQMHloK_7"
      }
    },
    {
      "cell_type": "markdown",
      "source": [
        "# Create Windows"
      ],
      "metadata": {
        "id": "FqGpVJliqL3B"
      }
    },
    {
      "cell_type": "code",
      "source": [
        "seq_len = 50\n",
        "sequence_length = seq_len + 1\n",
        "\n",
        "window_list = []\n",
        "for index in range(len(mid_prices) - sequence_length):\n",
        "    window_list.append(mid_prices[index: index + sequence_length])\n",
        "print(\"첫번째 window : \",window_list[0])\n",
        "print(\"첫번째 window의 길이 : \",len(window_list[0]))\n",
        "print(\"window의 총개수 : \",len(window_list))"
      ],
      "metadata": {
        "id": "E0NvBAtvcmeG",
        "colab": {
          "base_uri": "https://localhost:8080/"
        },
        "outputId": "c4253262-fc93-4392-f462-b792bcf1311c"
      },
      "execution_count": 28,
      "outputs": [
        {
          "output_type": "stream",
          "name": "stdout",
          "text": [
            "첫번째 window :  [50250. 49850. 48125. 48900. 50650. 50300. 50175. 51150. 49725. 48700.\n",
            " 46325. 46900. 47325. 47475. 48475. 48675. 48600. 48425. 48525. 50200.\n",
            " 51100. 49025. 49075. 47500. 47100. 47625. 47900. 48725. 49750. 50525.\n",
            " 50650. 51500. 50850. 50350. 51300. 51500. 50475. 49800. 49250. 49350.\n",
            " 48875. 48875. 49425. 50075. 49700. 49850. 50125. 50700. 51900. 52650.\n",
            " 52050.]\n",
            "첫번째 window의 길이 :  51\n",
            "window의 총개수 :  1174\n"
          ]
        }
      ]
    },
    {
      "cell_type": "markdown",
      "source": [
        "\n",
        "\n",
        "▶학습, 예측할 데이터 단위는 window 입니다.\n",
        "*   seq_len : 설정할 window의 학습 근거 데이터수.\n",
        "*   sequence_length : seq_len + seq_len를 근거로 예측할 데이터수.(window size)\n",
        "*   window_list : size가 51인 window들의 집합 리스트.<br/>\n",
        "&#35; 한칸씩 밀리면서 생성한 window를 저장할 빈 리스트 를 생성합니다.(여기에서 window는 numpy array입니다.)\n",
        "*   한칸씩 밀리면서 생성하기 위해 전체 행의수 1225개에서 51개를 뺀 수만큼 반복을 시작합니다.(index = 0 ~ 1173)\n",
        "*   mid_prices에서 index ~ index+51 범위 값이 window이므로 window_list에 저장합니다.\n",
        "*   window_list의 첫번째 window는 2017-02-13 ~ 2017-04-25의 51개 데이터가 저장됩니다.\n",
        "*   windw의 총개수는 1174개이고, 한개의 window에 들어있는 데이터 개수는 51개 입니다.<br/>\n",
        "&#35; window : 51개의 데이터를 담고 있는 창문.<br/>\n",
        "&#35; window_data : window 속 데이터 1개.<br/>\n",
        "&#35; window_list : 1174개의 window를 모아놓은 리스트.\n"
      ],
      "metadata": {
        "id": "oLQD4V7kqQvN"
      }
    },
    {
      "cell_type": "markdown",
      "source": [
        "# Normalize Data"
      ],
      "metadata": {
        "id": "sIIXcf6FBKEr"
      }
    },
    {
      "cell_type": "code",
      "source": [
        "normalized_window_list = []\n",
        "for window in window_list:\n",
        "    normalized_window = [((float(window_data) / float(window[0])) - 1) for window_data in window]\n",
        "    normalized_window_list.append(normalized_window)\n",
        "\n",
        "result = np.array(normalized_window_list)"
      ],
      "metadata": {
        "id": "bt7kmntZcntp"
      },
      "execution_count": 29,
      "outputs": []
    },
    {
      "cell_type": "markdown",
      "source": [
        "\n",
        "\n",
        "▶각 window의 첫번째 데이터를 0으로 잡고, 그 비율을 계산하여 정규화시킵니다.\n",
        "*   normalized_window_list : 정규화된 winddow의 집합 리스트.\n",
        "*   1174개의 window를 차례대로 반복 대입합니다.\n",
        "*   대입한 window는 51개의 데이터를 가지고 있고, 하나씩 꺼내어 window_data에 대입합니다.\n",
        "*   window_data는 1개의 데이터이며 각 window의 첫번째 window_data를 0으로 잡고, 비율을 계산합니다."
      ],
      "metadata": {
        "id": "VDKSnKp-Ba9x"
      }
    },
    {
      "cell_type": "markdown",
      "source": [
        "# Split Train and Test Data"
      ],
      "metadata": {
        "id": "RrFYDGfpEAmF"
      }
    },
    {
      "cell_type": "code",
      "source": [
        "print(\"result의 shape : \",result.shape)\n",
        "row = int(round(result.shape[0] * 0.9))\n",
        "print(\"훈련데이터수 : \",row)\n",
        "train = result[:row, :]\n",
        "print(\"train의 shape : \",train.shape)\n",
        "np.random.shuffle(train)\n",
        "\n",
        "x_train = train[:, :-1]\n",
        "print(\"x_train의 shape : \",x_train.shape)\n",
        "x_train = np.reshape(x_train, (x_train.shape[0], x_train.shape[1], 1))\n",
        "y_train = train[:, -1]\n",
        "print(\"y_train의 shape : \",y_train.shape)\n",
        "\n",
        "x_test = result[row:, :-1]\n",
        "print(\"x_test의 shape : \",x_test.shape)\n",
        "x_test = np.reshape(x_test, (x_test.shape[0], x_test.shape[1], 1))\n",
        "y_test = result[row:, -1]\n",
        "print(\"y_test의 shape : \",y_test.shape)\n",
        "\n",
        "x_train.shape, x_test.shape"
      ],
      "metadata": {
        "colab": {
          "base_uri": "https://localhost:8080/"
        },
        "id": "jhJ2xCLvEAsQ",
        "outputId": "40b777d1-303b-4586-ec32-e9e37143a08f"
      },
      "execution_count": 30,
      "outputs": [
        {
          "output_type": "stream",
          "name": "stdout",
          "text": [
            "result의 shape :  (1174, 51)\n",
            "훈련데이터수 :  1057\n",
            "train의 shape :  (1057, 51)\n",
            "x_train의 shape :  (1057, 50)\n",
            "y_train의 shape :  (1057,)\n",
            "x_test의 shape :  (117, 50)\n",
            "y_test의 shape :  (117,)\n"
          ]
        },
        {
          "output_type": "execute_result",
          "data": {
            "text/plain": [
              "((1057, 50, 1), (117, 50, 1))"
            ]
          },
          "metadata": {},
          "execution_count": 30
        }
      ]
    },
    {
      "cell_type": "markdown",
      "source": [
        "\n",
        "▶51개 데이터를 담은 1174개의 window 집합 2차 array인 result를 분리합니다.\n",
        "*   row : 정규화된 window들의 90%의 수.<br/>\n",
        "&#35; 정규화된 window 세트는 result에 저장되어 있으며 result.shape는 (행, 열)이고, 0번째 인덱스는 result에 들어있는 window 세트의 수를 의미합니다.\n",
        "*   train : result에서 0~row(1057)행에 해당하는 데이터.<br/>\n",
        "&#35; result[0] = 2017-02-13에서 2017-04-25 까지의 데이터이고, result[1057] = 2021-06-08부터 2021-08-18까지의 데이터 이므로 2021-08-17 이하 데이터를 학습하고 이후 2021-08-19 부터 데이터를 예측하게 됩니다.\n",
        "*   train 데이터를 무작위로 섞습니다.\n",
        "*   x_train : window의 90%에 해당하는 데이터 51개 중 제일 마지막 데이터를 제외한 데이터 50개.(input 데이터)\n",
        "*   LSTM 모델의 입력 노드는 50, 출력 노드는 1이므로 (50,1)로 reshape을 합니다.\n",
        "*   y_train : window의 90%에 해당하는 데이터 51개 중 제일 마지막 데이터 1개.(output 데이터)<br/>\n",
        "&#35; 이미지를 다룰때의 이미지(input), 정답(output)과 다름에 유의해야 합니다.\n",
        "*   x_test : window의 10%에 해당하는 데이터 51개 중 제일 마지막 데이터를 제외한 데이터 50개.(input 데이터)\n",
        "*   LSTM 모델의 입력 노드는 50, 출력 노드는 1이므로 (50,1)로 reshape을 합니다.\n",
        "*   y_test : window의 10%에 해당하는 데이터 51개 중 제일 마지막 데이터 1개.(output 데이터)\n"
      ],
      "metadata": {
        "id": "fc8uxMScEAzX"
      }
    },
    {
      "cell_type": "markdown",
      "source": [
        "# Build a Model"
      ],
      "metadata": {
        "id": "-J02mkmKVyTb"
      }
    },
    {
      "cell_type": "code",
      "source": [
        "model = Sequential()\n",
        "\n",
        "model.add(LSTM(50, return_sequences=True, input_shape=(50, 1)))\n",
        "\n",
        "model.add(LSTM(64, return_sequences=False))\n",
        "\n",
        "model.add(Dense(1, activation='linear'))\n",
        "\n",
        "model.compile(loss='mse', optimizer='rmsprop')\n",
        "\n",
        "model.summary()"
      ],
      "metadata": {
        "colab": {
          "base_uri": "https://localhost:8080/"
        },
        "id": "37nf-VVicroR",
        "outputId": "040b2bbc-f393-49b4-f2ac-dcb893c69584"
      },
      "execution_count": 31,
      "outputs": [
        {
          "output_type": "stream",
          "name": "stdout",
          "text": [
            "Model: \"sequential_1\"\n",
            "_________________________________________________________________\n",
            " Layer (type)                Output Shape              Param #   \n",
            "=================================================================\n",
            " lstm_2 (LSTM)               (None, 50, 50)            10400     \n",
            "                                                                 \n",
            " lstm_3 (LSTM)               (None, 64)                29440     \n",
            "                                                                 \n",
            " dense_1 (Dense)             (None, 1)                 65        \n",
            "                                                                 \n",
            "=================================================================\n",
            "Total params: 39,905\n",
            "Trainable params: 39,905\n",
            "Non-trainable params: 0\n",
            "_________________________________________________________________\n"
          ]
        }
      ]
    },
    {
      "cell_type": "markdown",
      "source": [
        "\n",
        "\n",
        "*   model : keras의 seqential() 인스턴스.<br/>\n",
        "&#35; model은 텅빈 인스턴스로 add를 통해서 layer를 쌓아야 합니다.\n",
        "*   LSTM layer를 생성하고 sequntial에 추가합니다.<br/>\n",
        "&#35; 입력되는 데이터의 shape는 (50,1)입니다.\n",
        "*   출력 layer는 dense 함수를 이용하여 출력 노드 1개, 활성화 함수는 linear로 생성하여 추가합니다.\n",
        "*   compile 함수를 이용하여 손실함수는 mse, 옵티마이저는 rmsprop을 설정하고 생성하여 추가합니다.\n",
        "*   완성된 모델 인스턴스를 요약해서 출력합니다.\n"
      ],
      "metadata": {
        "id": "LbdZzGuieNrn"
      }
    },
    {
      "cell_type": "markdown",
      "source": [
        "# Training"
      ],
      "metadata": {
        "id": "lnQDLU8wi55p"
      }
    },
    {
      "cell_type": "code",
      "source": [
        "model.fit(x_train, y_train,\n",
        "    validation_data=(x_test, y_test),\n",
        "    batch_size=10,\n",
        "    epochs=20)"
      ],
      "metadata": {
        "id": "IL-03abacs3M",
        "colab": {
          "base_uri": "https://localhost:8080/"
        },
        "outputId": "39764d3a-247d-46b9-c352-e7f567537689"
      },
      "execution_count": 32,
      "outputs": [
        {
          "output_type": "stream",
          "name": "stdout",
          "text": [
            "Epoch 1/20\n",
            "106/106 [==============================] - 14s 59ms/step - loss: 0.0034 - val_loss: 9.2407e-04\n",
            "Epoch 2/20\n",
            "106/106 [==============================] - 5s 48ms/step - loss: 0.0016 - val_loss: 7.1759e-04\n",
            "Epoch 3/20\n",
            "106/106 [==============================] - 5s 49ms/step - loss: 0.0011 - val_loss: 0.0038\n",
            "Epoch 4/20\n",
            "106/106 [==============================] - 5s 47ms/step - loss: 9.3037e-04 - val_loss: 5.1300e-04\n",
            "Epoch 5/20\n",
            "106/106 [==============================] - 5s 47ms/step - loss: 7.2015e-04 - val_loss: 9.8728e-04\n",
            "Epoch 6/20\n",
            "106/106 [==============================] - 5s 47ms/step - loss: 5.9110e-04 - val_loss: 9.7111e-04\n",
            "Epoch 7/20\n",
            "106/106 [==============================] - 5s 47ms/step - loss: 5.5120e-04 - val_loss: 5.8048e-04\n",
            "Epoch 8/20\n",
            "106/106 [==============================] - 5s 48ms/step - loss: 5.3435e-04 - val_loss: 5.9050e-04\n",
            "Epoch 9/20\n",
            "106/106 [==============================] - 5s 47ms/step - loss: 5.2523e-04 - val_loss: 4.0415e-04\n",
            "Epoch 10/20\n",
            "106/106 [==============================] - 5s 48ms/step - loss: 5.0238e-04 - val_loss: 4.3507e-04\n",
            "Epoch 11/20\n",
            "106/106 [==============================] - 5s 49ms/step - loss: 4.8315e-04 - val_loss: 6.4687e-04\n",
            "Epoch 12/20\n",
            "106/106 [==============================] - 5s 47ms/step - loss: 5.1181e-04 - val_loss: 4.3667e-04\n",
            "Epoch 13/20\n",
            "106/106 [==============================] - 5s 47ms/step - loss: 5.0558e-04 - val_loss: 4.4348e-04\n",
            "Epoch 14/20\n",
            "106/106 [==============================] - 5s 47ms/step - loss: 5.0700e-04 - val_loss: 3.8389e-04\n",
            "Epoch 15/20\n",
            "106/106 [==============================] - 5s 46ms/step - loss: 4.9817e-04 - val_loss: 5.4308e-04\n",
            "Epoch 16/20\n",
            "106/106 [==============================] - 6s 53ms/step - loss: 4.9940e-04 - val_loss: 3.4849e-04\n",
            "Epoch 17/20\n",
            "106/106 [==============================] - 5s 46ms/step - loss: 4.8803e-04 - val_loss: 4.4290e-04\n",
            "Epoch 18/20\n",
            "106/106 [==============================] - 7s 62ms/step - loss: 4.8988e-04 - val_loss: 5.7764e-04\n",
            "Epoch 19/20\n",
            "106/106 [==============================] - 5s 48ms/step - loss: 4.8389e-04 - val_loss: 4.3065e-04\n",
            "Epoch 20/20\n",
            "106/106 [==============================] - 5s 51ms/step - loss: 4.9431e-04 - val_loss: 3.7414e-04\n"
          ]
        },
        {
          "output_type": "execute_result",
          "data": {
            "text/plain": [
              "<keras.callbacks.History at 0x7f8355207b50>"
            ]
          },
          "metadata": {},
          "execution_count": 32
        }
      ]
    },
    {
      "cell_type": "markdown",
      "source": [
        "\n",
        "\n",
        "*   완성된 모델을 fit함수를 이용하여 학습시킵니다.<br/>\n",
        "&#35; 준비했던 학습, 평가 데이터를 설정하고, batch의 크기는 10개로 에폭은 20으로 설정합니다.\n",
        "\n"
      ],
      "metadata": {
        "id": "0nFPhKuQjEwk"
      }
    },
    {
      "cell_type": "markdown",
      "source": [
        "# Prediction"
      ],
      "metadata": {
        "id": "SwKpTck9jaaI"
      }
    },
    {
      "cell_type": "code",
      "source": [
        "pred = model.predict(x_test)\n",
        "pred_table = []\n",
        "for i in pred:\n",
        "  pred_table.append((i+1)*float(window[0]))\n",
        "\n",
        "date = pd.date_range(start=\"20210902\", end=\"20220211\",freq='C')\n",
        "date_table = list(date)\n",
        "\n",
        "a = {'Date': date_table, 'Prices': pred_table}\n",
        "b = pd.DataFrame(a)\n",
        "\n",
        "display(b)"
      ],
      "metadata": {
        "colab": {
          "base_uri": "https://localhost:8080/",
          "height": 423
        },
        "id": "gmO8gRBJ3Pf3",
        "outputId": "fb07b2a7-f159-4637-9cc0-bf82dcb38498"
      },
      "execution_count": 33,
      "outputs": [
        {
          "output_type": "display_data",
          "data": {
            "text/html": [
              "\n",
              "  <div id=\"df-d5c06ff2-6ce1-4a0f-8624-37e3bbfaa902\">\n",
              "    <div class=\"colab-df-container\">\n",
              "      <div>\n",
              "<style scoped>\n",
              "    .dataframe tbody tr th:only-of-type {\n",
              "        vertical-align: middle;\n",
              "    }\n",
              "\n",
              "    .dataframe tbody tr th {\n",
              "        vertical-align: top;\n",
              "    }\n",
              "\n",
              "    .dataframe thead th {\n",
              "        text-align: right;\n",
              "    }\n",
              "</style>\n",
              "<table border=\"1\" class=\"dataframe\">\n",
              "  <thead>\n",
              "    <tr style=\"text-align: right;\">\n",
              "      <th></th>\n",
              "      <th>Date</th>\n",
              "      <th>Prices</th>\n",
              "    </tr>\n",
              "  </thead>\n",
              "  <tbody>\n",
              "    <tr>\n",
              "      <th>0</th>\n",
              "      <td>2021-09-02</td>\n",
              "      <td>[97243.08]</td>\n",
              "    </tr>\n",
              "    <tr>\n",
              "      <th>1</th>\n",
              "      <td>2021-09-03</td>\n",
              "      <td>[99666.98]</td>\n",
              "    </tr>\n",
              "    <tr>\n",
              "      <th>2</th>\n",
              "      <td>2021-09-06</td>\n",
              "      <td>[100644.56]</td>\n",
              "    </tr>\n",
              "    <tr>\n",
              "      <th>3</th>\n",
              "      <td>2021-09-07</td>\n",
              "      <td>[97144.0]</td>\n",
              "    </tr>\n",
              "    <tr>\n",
              "      <th>4</th>\n",
              "      <td>2021-09-08</td>\n",
              "      <td>[97889.65]</td>\n",
              "    </tr>\n",
              "    <tr>\n",
              "      <th>...</th>\n",
              "      <td>...</td>\n",
              "      <td>...</td>\n",
              "    </tr>\n",
              "    <tr>\n",
              "      <th>112</th>\n",
              "      <td>2022-02-07</td>\n",
              "      <td>[135648.84]</td>\n",
              "    </tr>\n",
              "    <tr>\n",
              "      <th>113</th>\n",
              "      <td>2022-02-08</td>\n",
              "      <td>[125079.45]</td>\n",
              "    </tr>\n",
              "    <tr>\n",
              "      <th>114</th>\n",
              "      <td>2022-02-09</td>\n",
              "      <td>[119641.95]</td>\n",
              "    </tr>\n",
              "    <tr>\n",
              "      <th>115</th>\n",
              "      <td>2022-02-10</td>\n",
              "      <td>[121736.67]</td>\n",
              "    </tr>\n",
              "    <tr>\n",
              "      <th>116</th>\n",
              "      <td>2022-02-11</td>\n",
              "      <td>[122559.2]</td>\n",
              "    </tr>\n",
              "  </tbody>\n",
              "</table>\n",
              "<p>117 rows × 2 columns</p>\n",
              "</div>\n",
              "      <button class=\"colab-df-convert\" onclick=\"convertToInteractive('df-d5c06ff2-6ce1-4a0f-8624-37e3bbfaa902')\"\n",
              "              title=\"Convert this dataframe to an interactive table.\"\n",
              "              style=\"display:none;\">\n",
              "        \n",
              "  <svg xmlns=\"http://www.w3.org/2000/svg\" height=\"24px\"viewBox=\"0 0 24 24\"\n",
              "       width=\"24px\">\n",
              "    <path d=\"M0 0h24v24H0V0z\" fill=\"none\"/>\n",
              "    <path d=\"M18.56 5.44l.94 2.06.94-2.06 2.06-.94-2.06-.94-.94-2.06-.94 2.06-2.06.94zm-11 1L8.5 8.5l.94-2.06 2.06-.94-2.06-.94L8.5 2.5l-.94 2.06-2.06.94zm10 10l.94 2.06.94-2.06 2.06-.94-2.06-.94-.94-2.06-.94 2.06-2.06.94z\"/><path d=\"M17.41 7.96l-1.37-1.37c-.4-.4-.92-.59-1.43-.59-.52 0-1.04.2-1.43.59L10.3 9.45l-7.72 7.72c-.78.78-.78 2.05 0 2.83L4 21.41c.39.39.9.59 1.41.59.51 0 1.02-.2 1.41-.59l7.78-7.78 2.81-2.81c.8-.78.8-2.07 0-2.86zM5.41 20L4 18.59l7.72-7.72 1.47 1.35L5.41 20z\"/>\n",
              "  </svg>\n",
              "      </button>\n",
              "      \n",
              "  <style>\n",
              "    .colab-df-container {\n",
              "      display:flex;\n",
              "      flex-wrap:wrap;\n",
              "      gap: 12px;\n",
              "    }\n",
              "\n",
              "    .colab-df-convert {\n",
              "      background-color: #E8F0FE;\n",
              "      border: none;\n",
              "      border-radius: 50%;\n",
              "      cursor: pointer;\n",
              "      display: none;\n",
              "      fill: #1967D2;\n",
              "      height: 32px;\n",
              "      padding: 0 0 0 0;\n",
              "      width: 32px;\n",
              "    }\n",
              "\n",
              "    .colab-df-convert:hover {\n",
              "      background-color: #E2EBFA;\n",
              "      box-shadow: 0px 1px 2px rgba(60, 64, 67, 0.3), 0px 1px 3px 1px rgba(60, 64, 67, 0.15);\n",
              "      fill: #174EA6;\n",
              "    }\n",
              "\n",
              "    [theme=dark] .colab-df-convert {\n",
              "      background-color: #3B4455;\n",
              "      fill: #D2E3FC;\n",
              "    }\n",
              "\n",
              "    [theme=dark] .colab-df-convert:hover {\n",
              "      background-color: #434B5C;\n",
              "      box-shadow: 0px 1px 3px 1px rgba(0, 0, 0, 0.15);\n",
              "      filter: drop-shadow(0px 1px 2px rgba(0, 0, 0, 0.3));\n",
              "      fill: #FFFFFF;\n",
              "    }\n",
              "  </style>\n",
              "\n",
              "      <script>\n",
              "        const buttonEl =\n",
              "          document.querySelector('#df-d5c06ff2-6ce1-4a0f-8624-37e3bbfaa902 button.colab-df-convert');\n",
              "        buttonEl.style.display =\n",
              "          google.colab.kernel.accessAllowed ? 'block' : 'none';\n",
              "\n",
              "        async function convertToInteractive(key) {\n",
              "          const element = document.querySelector('#df-d5c06ff2-6ce1-4a0f-8624-37e3bbfaa902');\n",
              "          const dataTable =\n",
              "            await google.colab.kernel.invokeFunction('convertToInteractive',\n",
              "                                                     [key], {});\n",
              "          if (!dataTable) return;\n",
              "\n",
              "          const docLinkHtml = 'Like what you see? Visit the ' +\n",
              "            '<a target=\"_blank\" href=https://colab.research.google.com/notebooks/data_table.ipynb>data table notebook</a>'\n",
              "            + ' to learn more about interactive tables.';\n",
              "          element.innerHTML = '';\n",
              "          dataTable['output_type'] = 'display_data';\n",
              "          await google.colab.output.renderOutput(dataTable, element);\n",
              "          const docLink = document.createElement('div');\n",
              "          docLink.innerHTML = docLinkHtml;\n",
              "          element.appendChild(docLink);\n",
              "        }\n",
              "      </script>\n",
              "    </div>\n",
              "  </div>\n",
              "  "
            ],
            "text/plain": [
              "          Date       Prices\n",
              "0   2021-09-02   [97243.08]\n",
              "1   2021-09-03   [99666.98]\n",
              "2   2021-09-06  [100644.56]\n",
              "3   2021-09-07    [97144.0]\n",
              "4   2021-09-08   [97889.65]\n",
              "..         ...          ...\n",
              "112 2022-02-07  [135648.84]\n",
              "113 2022-02-08  [125079.45]\n",
              "114 2022-02-09  [119641.95]\n",
              "115 2022-02-10  [121736.67]\n",
              "116 2022-02-11   [122559.2]\n",
              "\n",
              "[117 rows x 2 columns]"
            ]
          },
          "metadata": {}
        }
      ]
    },
    {
      "cell_type": "markdown",
      "source": [
        "\n",
        "\n",
        "*   pred : 학습된 모델이 x_test에 대한 예측값을 모아놓은 array.\n",
        "*   정규화된 모델 예측값을 다시 역연산하고, pred_table에 추가합니다.\n",
        "*   date : 판다스의 date_range함수를 사용하여 2021-08-31부터 2022-02-09 범위의 주중 날짜.\n",
        "*   date의 자료형을 리스트로 변환하고, date_table과 pred_table을 이용하여 DataFrame을 생성합니다.<br/>\n",
        "&#35; 2021-08-19을 포함한 이후로 2022-02-11까지 주중일은 총 127일이나 중간에 비규칙적으로 주식시장 휴일로 117개의 데이터가 존재합니다. 그래서 우선은 부득이하게 2021-09-02부터 날짜를 시작함을 알려드립니다.\n"
      ],
      "metadata": {
        "id": "Re-yONS83Poe"
      }
    },
    {
      "cell_type": "markdown",
      "source": [
        "# Data Visualization"
      ],
      "metadata": {
        "id": "f_UODeLd3QWj"
      }
    },
    {
      "cell_type": "code",
      "source": [
        "fig = plt.figure(facecolor='white', figsize=(10, 5))\n",
        "plt.xlabel(\"Date\")\n",
        "plt.ylabel(\"Prices\")\n",
        "ax = fig.add_subplot(111)\n",
        "ax.plot(y_test, label='True')\n",
        "ax.plot(pred, label='Prediction')\n",
        "ax.legend()\n",
        "plt.show()"
      ],
      "metadata": {
        "colab": {
          "base_uri": "https://localhost:8080/",
          "height": 390
        },
        "id": "udUAKmPucuoh",
        "outputId": "a85e2599-c0a2-4e67-8e2d-8dcb8e3de80d"
      },
      "execution_count": 34,
      "outputs": [
        {
          "output_type": "stream",
          "name": "stderr",
          "text": [
            "/usr/local/lib/python3.7/dist-packages/ipykernel_launcher.py:4: MatplotlibDeprecationWarning: Adding an axes using the same arguments as a previous axes currently reuses the earlier instance.  In a future version, a new instance will always be created and returned.  Meanwhile, this warning can be suppressed, and the future behavior ensured, by passing a unique label to each axes instance.\n",
            "  after removing the cwd from sys.path.\n"
          ]
        },
        {
          "output_type": "display_data",
          "data": {
            "image/png": "[encoded data removed]",
            "text/plain": [
              "<Figure size 720x360 with 1 Axes>"
            ]
          },
          "metadata": {}
        }
      ]
    },
    {
      "cell_type": "markdown",
      "source": [
        "# Price Forecast for Tomorrow"
      ],
      "metadata": {
        "id": "0xGNKUjoFKq7"
      }
    },
    {
      "cell_type": "code",
      "source": [
        "to_data = result[1173, 1:]\n",
        "to_x_data = np.reshape(to_data, (1,to_data.shape[0], 1))\n",
        "\n",
        "to_pred = model.predict(to_x_data)\n",
        "to_pred = list((to_pred+1)*float(window[0]))\n",
        "\n",
        "a = {'Date': [\"2022-02-14\"], 'Prices': to_pred}\n",
        "b = pd.DataFrame(a)\n",
        "\n",
        "display(b)"
      ],
      "metadata": {
        "colab": {
          "base_uri": "https://localhost:8080/",
          "height": 81
        },
        "id": "5q0fj6uRFK27",
        "outputId": "7e60e342-7ed5-4b0b-c02c-80c03625ac3b"
      },
      "execution_count": 47,
      "outputs": [
        {
          "output_type": "display_data",
          "data": {
            "text/html": [
              "\n",
              "  <div id=\"df-a891790a-977c-49a4-9fd0-83df7c49506f\">\n",
              "    <div class=\"colab-df-container\">\n",
              "      <div>\n",
              "<style scoped>\n",
              "    .dataframe tbody tr th:only-of-type {\n",
              "        vertical-align: middle;\n",
              "    }\n",
              "\n",
              "    .dataframe tbody tr th {\n",
              "        vertical-align: top;\n",
              "    }\n",
              "\n",
              "    .dataframe thead th {\n",
              "        text-align: right;\n",
              "    }\n",
              "</style>\n",
              "<table border=\"1\" class=\"dataframe\">\n",
              "  <thead>\n",
              "    <tr style=\"text-align: right;\">\n",
              "      <th></th>\n",
              "      <th>Date</th>\n",
              "      <th>Prices</th>\n",
              "    </tr>\n",
              "  </thead>\n",
              "  <tbody>\n",
              "    <tr>\n",
              "      <th>0</th>\n",
              "      <td>2022-02-12</td>\n",
              "      <td>[129992.36]</td>\n",
              "    </tr>\n",
              "  </tbody>\n",
              "</table>\n",
              "</div>\n",
              "      <button class=\"colab-df-convert\" onclick=\"convertToInteractive('df-a891790a-977c-49a4-9fd0-83df7c49506f')\"\n",
              "              title=\"Convert this dataframe to an interactive table.\"\n",
              "              style=\"display:none;\">\n",
              "        \n",
              "  <svg xmlns=\"http://www.w3.org/2000/svg\" height=\"24px\"viewBox=\"0 0 24 24\"\n",
              "       width=\"24px\">\n",
              "    <path d=\"M0 0h24v24H0V0z\" fill=\"none\"/>\n",
              "    <path d=\"M18.56 5.44l.94 2.06.94-2.06 2.06-.94-2.06-.94-.94-2.06-.94 2.06-2.06.94zm-11 1L8.5 8.5l.94-2.06 2.06-.94-2.06-.94L8.5 2.5l-.94 2.06-2.06.94zm10 10l.94 2.06.94-2.06 2.06-.94-2.06-.94-.94-2.06-.94 2.06-2.06.94z\"/><path d=\"M17.41 7.96l-1.37-1.37c-.4-.4-.92-.59-1.43-.59-.52 0-1.04.2-1.43.59L10.3 9.45l-7.72 7.72c-.78.78-.78 2.05 0 2.83L4 21.41c.39.39.9.59 1.41.59.51 0 1.02-.2 1.41-.59l7.78-7.78 2.81-2.81c.8-.78.8-2.07 0-2.86zM5.41 20L4 18.59l7.72-7.72 1.47 1.35L5.41 20z\"/>\n",
              "  </svg>\n",
              "      </button>\n",
              "      \n",
              "  <style>\n",
              "    .colab-df-container {\n",
              "      display:flex;\n",
              "      flex-wrap:wrap;\n",
              "      gap: 12px;\n",
              "    }\n",
              "\n",
              "    .colab-df-convert {\n",
              "      background-color: #E8F0FE;\n",
              "      border: none;\n",
              "      border-radius: 50%;\n",
              "      cursor: pointer;\n",
              "      display: none;\n",
              "      fill: #1967D2;\n",
              "      height: 32px;\n",
              "      padding: 0 0 0 0;\n",
              "      width: 32px;\n",
              "    }\n",
              "\n",
              "    .colab-df-convert:hover {\n",
              "      background-color: #E2EBFA;\n",
              "      box-shadow: 0px 1px 2px rgba(60, 64, 67, 0.3), 0px 1px 3px 1px rgba(60, 64, 67, 0.15);\n",
              "      fill: #174EA6;\n",
              "    }\n",
              "\n",
              "    [theme=dark] .colab-df-convert {\n",
              "      background-color: #3B4455;\n",
              "      fill: #D2E3FC;\n",
              "    }\n",
              "\n",
              "    [theme=dark] .colab-df-convert:hover {\n",
              "      background-color: #434B5C;\n",
              "      box-shadow: 0px 1px 3px 1px rgba(0, 0, 0, 0.15);\n",
              "      filter: drop-shadow(0px 1px 2px rgba(0, 0, 0, 0.3));\n",
              "      fill: #FFFFFF;\n",
              "    }\n",
              "  </style>\n",
              "\n",
              "      <script>\n",
              "        const buttonEl =\n",
              "          document.querySelector('#df-a891790a-977c-49a4-9fd0-83df7c49506f button.colab-df-convert');\n",
              "        buttonEl.style.display =\n",
              "          google.colab.kernel.accessAllowed ? 'block' : 'none';\n",
              "\n",
              "        async function convertToInteractive(key) {\n",
              "          const element = document.querySelector('#df-a891790a-977c-49a4-9fd0-83df7c49506f');\n",
              "          const dataTable =\n",
              "            await google.colab.kernel.invokeFunction('convertToInteractive',\n",
              "                                                     [key], {});\n",
              "          if (!dataTable) return;\n",
              "\n",
              "          const docLinkHtml = 'Like what you see? Visit the ' +\n",
              "            '<a target=\"_blank\" href=https://colab.research.google.com/notebooks/data_table.ipynb>data table notebook</a>'\n",
              "            + ' to learn more about interactive tables.';\n",
              "          element.innerHTML = '';\n",
              "          dataTable['output_type'] = 'display_data';\n",
              "          await google.colab.output.renderOutput(dataTable, element);\n",
              "          const docLink = document.createElement('div');\n",
              "          docLink.innerHTML = docLinkHtml;\n",
              "          element.appendChild(docLink);\n",
              "        }\n",
              "      </script>\n",
              "    </div>\n",
              "  </div>\n",
              "  "
            ],
            "text/plain": [
              "         Date       Prices\n",
              "0  2022-02-12  [129992.36]"
            ]
          },
          "metadata": {}
        }
      ]
    },
    {
      "cell_type": "markdown",
      "source": [
        "# Price Forecast for Week"
      ],
      "metadata": {
        "id": "riDHH-uPM9sf"
      }
    },
    {
      "cell_type": "code",
      "source": [
        "new_data = result[1173, 1:]\n",
        "new_data = np.reshape(new_data, (1,new_data.shape[0], 1))\n",
        "we_pred_list = []\n",
        "for i in range(10):\n",
        "  new_pred = model.predict(new_data)\n",
        "  we_pred = (new_pred+1)*float(window[0])\n",
        "  we_pred = np.reshape(we_pred, (1))\n",
        "  we_pred_list.append(we_pred)\n",
        "  new_pred = np.reshape(new_pred, (1,1,1))\n",
        "  new_data = np.concatenate([new_data,new_pred],axis=1)\n",
        "  new_data = new_data[:,1:,:]\n",
        "\n",
        "date = pd.date_range(start=\"20220214\", end=\"20220225\",freq='C')\n",
        "new_date_list = list(date)\n",
        "\n",
        "table = {'Date': new_date_list, 'Prices': we_pred_list}\n",
        "week = pd.DataFrame(table)\n",
        "\n",
        "display(week)\n"
      ],
      "metadata": {
        "id": "8kZLozSdM913",
        "colab": {
          "base_uri": "https://localhost:8080/",
          "height": 363
        },
        "outputId": "bc782c3b-f99e-43af-e059-c8bc5cad2c57"
      },
      "execution_count": 57,
      "outputs": [
        {
          "output_type": "display_data",
          "data": {
            "text/html": [
              "\n",
              "  <div id=\"df-10b5facd-6668-4ee7-ad01-aada8fc38a41\">\n",
              "    <div class=\"colab-df-container\">\n",
              "      <div>\n",
              "<style scoped>\n",
              "    .dataframe tbody tr th:only-of-type {\n",
              "        vertical-align: middle;\n",
              "    }\n",
              "\n",
              "    .dataframe tbody tr th {\n",
              "        vertical-align: top;\n",
              "    }\n",
              "\n",
              "    .dataframe thead th {\n",
              "        text-align: right;\n",
              "    }\n",
              "</style>\n",
              "<table border=\"1\" class=\"dataframe\">\n",
              "  <thead>\n",
              "    <tr style=\"text-align: right;\">\n",
              "      <th></th>\n",
              "      <th>Date</th>\n",
              "      <th>Prices</th>\n",
              "    </tr>\n",
              "  </thead>\n",
              "  <tbody>\n",
              "    <tr>\n",
              "      <th>0</th>\n",
              "      <td>2022-02-14</td>\n",
              "      <td>[129992.36]</td>\n",
              "    </tr>\n",
              "    <tr>\n",
              "      <th>1</th>\n",
              "      <td>2022-02-15</td>\n",
              "      <td>[129381.24]</td>\n",
              "    </tr>\n",
              "    <tr>\n",
              "      <th>2</th>\n",
              "      <td>2022-02-16</td>\n",
              "      <td>[128527.336]</td>\n",
              "    </tr>\n",
              "    <tr>\n",
              "      <th>3</th>\n",
              "      <td>2022-02-17</td>\n",
              "      <td>[127742.41]</td>\n",
              "    </tr>\n",
              "    <tr>\n",
              "      <th>4</th>\n",
              "      <td>2022-02-18</td>\n",
              "      <td>[127104.305]</td>\n",
              "    </tr>\n",
              "    <tr>\n",
              "      <th>5</th>\n",
              "      <td>2022-02-21</td>\n",
              "      <td>[126587.84]</td>\n",
              "    </tr>\n",
              "    <tr>\n",
              "      <th>6</th>\n",
              "      <td>2022-02-22</td>\n",
              "      <td>[126142.6]</td>\n",
              "    </tr>\n",
              "    <tr>\n",
              "      <th>7</th>\n",
              "      <td>2022-02-23</td>\n",
              "      <td>[125726.516]</td>\n",
              "    </tr>\n",
              "    <tr>\n",
              "      <th>8</th>\n",
              "      <td>2022-02-24</td>\n",
              "      <td>[125314.62]</td>\n",
              "    </tr>\n",
              "    <tr>\n",
              "      <th>9</th>\n",
              "      <td>2022-02-25</td>\n",
              "      <td>[124896.516]</td>\n",
              "    </tr>\n",
              "  </tbody>\n",
              "</table>\n",
              "</div>\n",
              "      <button class=\"colab-df-convert\" onclick=\"convertToInteractive('df-10b5facd-6668-4ee7-ad01-aada8fc38a41')\"\n",
              "              title=\"Convert this dataframe to an interactive table.\"\n",
              "              style=\"display:none;\">\n",
              "        \n",
              "  <svg xmlns=\"http://www.w3.org/2000/svg\" height=\"24px\"viewBox=\"0 0 24 24\"\n",
              "       width=\"24px\">\n",
              "    <path d=\"M0 0h24v24H0V0z\" fill=\"none\"/>\n",
              "    <path d=\"M18.56 5.44l.94 2.06.94-2.06 2.06-.94-2.06-.94-.94-2.06-.94 2.06-2.06.94zm-11 1L8.5 8.5l.94-2.06 2.06-.94-2.06-.94L8.5 2.5l-.94 2.06-2.06.94zm10 10l.94 2.06.94-2.06 2.06-.94-2.06-.94-.94-2.06-.94 2.06-2.06.94z\"/><path d=\"M17.41 7.96l-1.37-1.37c-.4-.4-.92-.59-1.43-.59-.52 0-1.04.2-1.43.59L10.3 9.45l-7.72 7.72c-.78.78-.78 2.05 0 2.83L4 21.41c.39.39.9.59 1.41.59.51 0 1.02-.2 1.41-.59l7.78-7.78 2.81-2.81c.8-.78.8-2.07 0-2.86zM5.41 20L4 18.59l7.72-7.72 1.47 1.35L5.41 20z\"/>\n",
              "  </svg>\n",
              "      </button>\n",
              "      \n",
              "  <style>\n",
              "    .colab-df-container {\n",
              "      display:flex;\n",
              "      flex-wrap:wrap;\n",
              "      gap: 12px;\n",
              "    }\n",
              "\n",
              "    .colab-df-convert {\n",
              "      background-color: #E8F0FE;\n",
              "      border: none;\n",
              "      border-radius: 50%;\n",
              "      cursor: pointer;\n",
              "      display: none;\n",
              "      fill: #1967D2;\n",
              "      height: 32px;\n",
              "      padding: 0 0 0 0;\n",
              "      width: 32px;\n",
              "    }\n",
              "\n",
              "    .colab-df-convert:hover {\n",
              "      background-color: #E2EBFA;\n",
              "      box-shadow: 0px 1px 2px rgba(60, 64, 67, 0.3), 0px 1px 3px 1px rgba(60, 64, 67, 0.15);\n",
              "      fill: #174EA6;\n",
              "    }\n",
              "\n",
              "    [theme=dark] .colab-df-convert {\n",
              "      background-color: #3B4455;\n",
              "      fill: #D2E3FC;\n",
              "    }\n",
              "\n",
              "    [theme=dark] .colab-df-convert:hover {\n",
              "      background-color: #434B5C;\n",
              "      box-shadow: 0px 1px 3px 1px rgba(0, 0, 0, 0.15);\n",
              "      filter: drop-shadow(0px 1px 2px rgba(0, 0, 0, 0.3));\n",
              "      fill: #FFFFFF;\n",
              "    }\n",
              "  </style>\n",
              "\n",
              "      <script>\n",
              "        const buttonEl =\n",
              "          document.querySelector('#df-10b5facd-6668-4ee7-ad01-aada8fc38a41 button.colab-df-convert');\n",
              "        buttonEl.style.display =\n",
              "          google.colab.kernel.accessAllowed ? 'block' : 'none';\n",
              "\n",
              "        async function convertToInteractive(key) {\n",
              "          const element = document.querySelector('#df-10b5facd-6668-4ee7-ad01-aada8fc38a41');\n",
              "          const dataTable =\n",
              "            await google.colab.kernel.invokeFunction('convertToInteractive',\n",
              "                                                     [key], {});\n",
              "          if (!dataTable) return;\n",
              "\n",
              "          const docLinkHtml = 'Like what you see? Visit the ' +\n",
              "            '<a target=\"_blank\" href=https://colab.research.google.com/notebooks/data_table.ipynb>data table notebook</a>'\n",
              "            + ' to learn more about interactive tables.';\n",
              "          element.innerHTML = '';\n",
              "          dataTable['output_type'] = 'display_data';\n",
              "          await google.colab.output.renderOutput(dataTable, element);\n",
              "          const docLink = document.createElement('div');\n",
              "          docLink.innerHTML = docLinkHtml;\n",
              "          element.appendChild(docLink);\n",
              "        }\n",
              "      </script>\n",
              "    </div>\n",
              "  </div>\n",
              "  "
            ],
            "text/plain": [
              "        Date        Prices\n",
              "0 2022-02-14   [129992.36]\n",
              "1 2022-02-15   [129381.24]\n",
              "2 2022-02-16  [128527.336]\n",
              "3 2022-02-17   [127742.41]\n",
              "4 2022-02-18  [127104.305]\n",
              "5 2022-02-21   [126587.84]\n",
              "6 2022-02-22    [126142.6]\n",
              "7 2022-02-23  [125726.516]\n",
              "8 2022-02-24   [125314.62]\n",
              "9 2022-02-25  [124896.516]"
            ]
          },
          "metadata": {}
        }
      ]
    },
    {
      "cell_type": "markdown",
      "source": [
        "# Week Data Visualization"
      ],
      "metadata": {
        "id": "Kw6vaQc_DWcS"
      }
    },
    {
      "cell_type": "code",
      "source": [
        "fig = plt.figure(facecolor='white', figsize=(8, 4))\n",
        "plt.xlabel(\"Date\")\n",
        "plt.ylabel(\"Prices\")\n",
        "ax = fig.add_subplot(111)\n",
        "ax.plot(we_pred_list, label='Prediction')\n",
        "ax.legend()\n",
        "plt.show()"
      ],
      "metadata": {
        "colab": {
          "base_uri": "https://localhost:8080/",
          "height": 335
        },
        "id": "CGqYYdNUDWiX",
        "outputId": "f700ed4e-ee3e-4669-f3f0-92a980914d05"
      },
      "execution_count": 64,
      "outputs": [
        {
          "output_type": "stream",
          "name": "stderr",
          "text": [
            "/usr/local/lib/python3.7/dist-packages/ipykernel_launcher.py:4: MatplotlibDeprecationWarning: Adding an axes using the same arguments as a previous axes currently reuses the earlier instance.  In a future version, a new instance will always be created and returned.  Meanwhile, this warning can be suppressed, and the future behavior ensured, by passing a unique label to each axes instance.\n",
            "  after removing the cwd from sys.path.\n"
          ]
        },
        {
          "output_type": "display_data",
          "data": {
            "image/png": "[encoded data removed]",
            "text/plain": [
              "<Figure size 576x288 with 1 Axes>"
            ]
          },
          "metadata": {}
        }
      ]
    }
  ]
}