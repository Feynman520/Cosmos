{
  "nbformat": 4,
  "nbformat_minor": 0,
  "metadata": {
    "colab": {
      "name": "Stock Forecast Project.ipynb",
      "provenance": [],
      "collapsed_sections": [],
      "authorship_tag": "ABX9TyNfGZESk9jE6ywNcHGVmudH",
      "include_colab_link": true
    },
    "kernelspec": {
      "name": "python3",
      "display_name": "Python 3"
    },
    "language_info": {
      "name": "python"
    }
  },
  "cells": [
    {
      "cell_type": "markdown",
      "metadata": {
        "id": "view-in-github",
        "colab_type": "text"
      },
      "source": [
        "<a href=\"https://colab.research.google.com/github/Feynman520/Cosmos/blob/main/Stock_Forecast_Project.ipynb\" target=\"_parent\"><img src=\"https://colab.research.google.com/assets/colab-badge.svg\" alt=\"Open In Colab\"/></a>"
      ]
    },
    {
      "cell_type": "markdown",
      "source": [
        "# File Upload"
      ],
      "metadata": {
        "id": "xPTwAr-YlNxH"
      }
    },
    {
      "cell_type": "code",
      "source": [
        "from google.colab import files\n",
        "upload = files.upload()"
      ],
      "metadata": {
        "colab": {
          "resources": {
            "http://localhost:8080/nbextensions/google.colab/files.js": {
              "data": "Ly8gQ29weXJpZ2h0IDIwMTcgR29vZ2xlIExMQwovLwovLyBMaWNlbnNlZCB1bmRlciB0aGUgQXBhY2hlIExpY2Vuc2UsIFZlcnNpb24gMi4wICh0aGUgIkxpY2Vuc2UiKTsKLy8geW91IG1heSBub3QgdXNlIHRoaXMgZmlsZSBleGNlcHQgaW4gY29tcGxpYW5jZSB3aXRoIHRoZSBMaWNlbnNlLgovLyBZb3UgbWF5IG9idGFpbiBhIGNvcHkgb2YgdGhlIExpY2Vuc2UgYXQKLy8KLy8gICAgICBodHRwOi8vd3d3LmFwYWNoZS5vcmcvbGljZW5zZXMvTElDRU5TRS0yLjAKLy8KLy8gVW5sZXNzIHJlcXVpcmVkIGJ5IGFwcGxpY2FibGUgbGF3IG9yIGFncmVlZCB0byBpbiB3cml0aW5nLCBzb2Z0d2FyZQovLyBkaXN0cmlidXRlZCB1bmRlciB0aGUgTGljZW5zZSBpcyBkaXN0cmlidXRlZCBvbiBhbiAiQVMgSVMiIEJBU0lTLAovLyBXSVRIT1VUIFdBUlJBTlRJRVMgT1IgQ09ORElUSU9OUyBPRiBBTlkgS0lORCwgZWl0aGVyIGV4cHJlc3Mgb3IgaW1wbGllZC4KLy8gU2VlIHRoZSBMaWNlbnNlIGZvciB0aGUgc3BlY2lmaWMgbGFuZ3VhZ2UgZ292ZXJuaW5nIHBlcm1pc3Npb25zIGFuZAovLyBsaW1pdGF0aW9ucyB1bmRlciB0aGUgTGljZW5zZS4KCi8qKgogKiBAZmlsZW92ZXJ2aWV3IEhlbHBlcnMgZm9yIGdvb2dsZS5jb2xhYiBQeXRob24gbW9kdWxlLgogKi8KKGZ1bmN0aW9uKHNjb3BlKSB7CmZ1bmN0aW9uIHNwYW4odGV4dCwgc3R5bGVBdHRyaWJ1dGVzID0ge30pIHsKICBjb25zdCBlbGVtZW50ID0gZG9jdW1lbnQuY3JlYXRlRWxlbWVudCgnc3BhbicpOwogIGVsZW1lbnQudGV4dENvbnRlbnQgPSB0ZXh0OwogIGZvciAoY29uc3Qga2V5IG9mIE9iamVjdC5rZXlzKHN0eWxlQXR0cmlidXRlcykpIHsKICAgIGVsZW1lbnQuc3R5bGVba2V5XSA9IHN0eWxlQXR0cmlidXRlc1trZXldOwogIH0KICByZXR1cm4gZWxlbWVudDsKfQoKLy8gTWF4IG51bWJlciBvZiBieXRlcyB3aGljaCB3aWxsIGJlIHVwbG9hZGVkIGF0IGEgdGltZS4KY29uc3QgTUFYX1BBWUxPQURfU0laRSA9IDEwMCAqIDEwMjQ7CgpmdW5jdGlvbiBfdXBsb2FkRmlsZXMoaW5wdXRJZCwgb3V0cHV0SWQpIHsKICBjb25zdCBzdGVwcyA9IHVwbG9hZEZpbGVzU3RlcChpbnB1dElkLCBvdXRwdXRJZCk7CiAgY29uc3Qgb3V0cHV0RWxlbWVudCA9IGRvY3VtZW50LmdldEVsZW1lbnRCeUlkKG91dHB1dElkKTsKICAvLyBDYWNoZSBzdGVwcyBvbiB0aGUgb3V0cHV0RWxlbWVudCB0byBtYWtlIGl0IGF2YWlsYWJsZSBmb3IgdGhlIG5leHQgY2FsbAogIC8vIHRvIHVwbG9hZEZpbGVzQ29udGludWUgZnJvbSBQeXRob24uCiAgb3V0cHV0RWxlbWVudC5zdGVwcyA9IHN0ZXBzOwoKICByZXR1cm4gX3VwbG9hZEZpbGVzQ29udGludWUob3V0cHV0SWQpOwp9CgovLyBUaGlzIGlzIHJvdWdobHkgYW4gYXN5bmMgZ2VuZXJhdG9yIChub3Qgc3VwcG9ydGVkIGluIHRoZSBicm93c2VyIHlldCksCi8vIHdoZXJlIHRoZXJlIGFyZSBtdWx0aXBsZSBhc3luY2hyb25vdXMgc3RlcHMgYW5kIHRoZSBQeXRob24gc2lkZSBpcyBnb2luZwovLyB0byBwb2xsIGZvciBjb21wbGV0aW9uIG9mIGVhY2ggc3RlcC4KLy8gVGhpcyB1c2VzIGEgUHJvbWlzZSB0byBibG9jayB0aGUgcHl0aG9uIHNpZGUgb24gY29tcGxldGlvbiBvZiBlYWNoIHN0ZXAsCi8vIHRoZW4gcGFzc2VzIHRoZSByZXN1bHQgb2YgdGhlIHByZXZpb3VzIHN0ZXAgYXMgdGhlIGlucHV0IHRvIHRoZSBuZXh0IHN0ZXAuCmZ1bmN0aW9uIF91cGxvYWRGaWxlc0NvbnRpbnVlKG91dHB1dElkKSB7CiAgY29uc3Qgb3V0cHV0RWxlbWVudCA9IGRvY3VtZW50LmdldEVsZW1lbnRCeUlkKG91dHB1dElkKTsKICBjb25zdCBzdGVwcyA9IG91dHB1dEVsZW1lbnQuc3RlcHM7CgogIGNvbnN0IG5leHQgPSBzdGVwcy5uZXh0KG91dHB1dEVsZW1lbnQubGFzdFByb21pc2VWYWx1ZSk7CiAgcmV0dXJuIFByb21pc2UucmVzb2x2ZShuZXh0LnZhbHVlLnByb21pc2UpLnRoZW4oKHZhbHVlKSA9PiB7CiAgICAvLyBDYWNoZSB0aGUgbGFzdCBwcm9taXNlIHZhbHVlIHRvIG1ha2UgaXQgYXZhaWxhYmxlIHRvIHRoZSBuZXh0CiAgICAvLyBzdGVwIG9mIHRoZSBnZW5lcmF0b3IuCiAgICBvdXRwdXRFbGVtZW50Lmxhc3RQcm9taXNlVmFsdWUgPSB2YWx1ZTsKICAgIHJldHVybiBuZXh0LnZhbHVlLnJlc3BvbnNlOwogIH0pOwp9CgovKioKICogR2VuZXJhdG9yIGZ1bmN0aW9uIHdoaWNoIGlzIGNhbGxlZCBiZXR3ZWVuIGVhY2ggYXN5bmMgc3RlcCBvZiB0aGUgdXBsb2FkCiAqIHByb2Nlc3MuCiAqIEBwYXJhbSB7c3RyaW5nfSBpbnB1dElkIEVsZW1lbnQgSUQgb2YgdGhlIGlucHV0IGZpbGUgcGlja2VyIGVsZW1lbnQuCiAqIEBwYXJhbSB7c3RyaW5nfSBvdXRwdXRJZCBFbGVtZW50IElEIG9mIHRoZSBvdXRwdXQgZGlzcGxheS4KICogQHJldHVybiB7IUl0ZXJhYmxlPCFPYmplY3Q+fSBJdGVyYWJsZSBvZiBuZXh0IHN0ZXBzLgogKi8KZnVuY3Rpb24qIHVwbG9hZEZpbGVzU3RlcChpbnB1dElkLCBvdXRwdXRJZCkgewogIGNvbnN0IGlucHV0RWxlbWVudCA9IGRvY3VtZW50LmdldEVsZW1lbnRCeUlkKGlucHV0SWQpOwogIGlucHV0RWxlbWVudC5kaXNhYmxlZCA9IGZhbHNlOwoKICBjb25zdCBvdXRwdXRFbGVtZW50ID0gZG9jdW1lbnQuZ2V0RWxlbWVudEJ5SWQob3V0cHV0SWQpOwogIG91dHB1dEVsZW1lbnQuaW5uZXJIVE1MID0gJyc7CgogIGNvbnN0IHBpY2tlZFByb21pc2UgPSBuZXcgUHJvbWlzZSgocmVzb2x2ZSkgPT4gewogICAgaW5wdXRFbGVtZW50LmFkZEV2ZW50TGlzdGVuZXIoJ2NoYW5nZScsIChlKSA9PiB7CiAgICAgIHJlc29sdmUoZS50YXJnZXQuZmlsZXMpOwogICAgfSk7CiAgfSk7CgogIGNvbnN0IGNhbmNlbCA9IGRvY3VtZW50LmNyZWF0ZUVsZW1lbnQoJ2J1dHRvbicpOwogIGlucHV0RWxlbWVudC5wYXJlbnRFbGVtZW50LmFwcGVuZENoaWxkKGNhbmNlbCk7CiAgY2FuY2VsLnRleHRDb250ZW50ID0gJ0NhbmNlbCB1cGxvYWQnOwogIGNvbnN0IGNhbmNlbFByb21pc2UgPSBuZXcgUHJvbWlzZSgocmVzb2x2ZSkgPT4gewogICAgY2FuY2VsLm9uY2xpY2sgPSAoKSA9PiB7CiAgICAgIHJlc29sdmUobnVsbCk7CiAgICB9OwogIH0pOwoKICAvLyBXYWl0IGZvciB0aGUgdXNlciB0byBwaWNrIHRoZSBmaWxlcy4KICBjb25zdCBmaWxlcyA9IHlpZWxkIHsKICAgIHByb21pc2U6IFByb21pc2UucmFjZShbcGlja2VkUHJvbWlzZSwgY2FuY2VsUHJvbWlzZV0pLAogICAgcmVzcG9uc2U6IHsKICAgICAgYWN0aW9uOiAnc3RhcnRpbmcnLAogICAgfQogIH07CgogIGNhbmNlbC5yZW1vdmUoKTsKCiAgLy8gRGlzYWJsZSB0aGUgaW5wdXQgZWxlbWVudCBzaW5jZSBmdXJ0aGVyIHBpY2tzIGFyZSBub3QgYWxsb3dlZC4KICBpbnB1dEVsZW1lbnQuZGlzYWJsZWQgPSB0cnVlOwoKICBpZiAoIWZpbGVzKSB7CiAgICByZXR1cm4gewogICAgICByZXNwb25zZTogewogICAgICAgIGFjdGlvbjogJ2NvbXBsZXRlJywKICAgICAgfQogICAgfTsKICB9CgogIGZvciAoY29uc3QgZmlsZSBvZiBmaWxlcykgewogICAgY29uc3QgbGkgPSBkb2N1bWVudC5jcmVhdGVFbGVtZW50KCdsaScpOwogICAgbGkuYXBwZW5kKHNwYW4oZmlsZS5uYW1lLCB7Zm9udFdlaWdodDogJ2JvbGQnfSkpOwogICAgbGkuYXBwZW5kKHNwYW4oCiAgICAgICAgYCgke2ZpbGUudHlwZSB8fCAnbi9hJ30pIC0gJHtmaWxlLnNpemV9IGJ5dGVzLCBgICsKICAgICAgICBgbGFzdCBtb2RpZmllZDogJHsKICAgICAgICAgICAgZmlsZS5sYXN0TW9kaWZpZWREYXRlID8gZmlsZS5sYXN0TW9kaWZpZWREYXRlLnRvTG9jYWxlRGF0ZVN0cmluZygpIDoKICAgICAgICAgICAgICAgICAgICAgICAgICAgICAgICAgICAgJ24vYSd9IC0gYCkpOwogICAgY29uc3QgcGVyY2VudCA9IHNwYW4oJzAlIGRvbmUnKTsKICAgIGxpLmFwcGVuZENoaWxkKHBlcmNlbnQpOwoKICAgIG91dHB1dEVsZW1lbnQuYXBwZW5kQ2hpbGQobGkpOwoKICAgIGNvbnN0IGZpbGVEYXRhUHJvbWlzZSA9IG5ldyBQcm9taXNlKChyZXNvbHZlKSA9PiB7CiAgICAgIGNvbnN0IHJlYWRlciA9IG5ldyBGaWxlUmVhZGVyKCk7CiAgICAgIHJlYWRlci5vbmxvYWQgPSAoZSkgPT4gewogICAgICAgIHJlc29sdmUoZS50YXJnZXQucmVzdWx0KTsKICAgICAgfTsKICAgICAgcmVhZGVyLnJlYWRBc0FycmF5QnVmZmVyKGZpbGUpOwogICAgfSk7CiAgICAvLyBXYWl0IGZvciB0aGUgZGF0YSB0byBiZSByZWFkeS4KICAgIGxldCBmaWxlRGF0YSA9IHlpZWxkIHsKICAgICAgcHJvbWlzZTogZmlsZURhdGFQcm9taXNlLAogICAgICByZXNwb25zZTogewogICAgICAgIGFjdGlvbjogJ2NvbnRpbnVlJywKICAgICAgfQogICAgfTsKCiAgICAvLyBVc2UgYSBjaHVua2VkIHNlbmRpbmcgdG8gYXZvaWQgbWVzc2FnZSBzaXplIGxpbWl0cy4gU2VlIGIvNjIxMTU2NjAuCiAgICBsZXQgcG9zaXRpb24gPSAwOwogICAgZG8gewogICAgICBjb25zdCBsZW5ndGggPSBNYXRoLm1pbihmaWxlRGF0YS5ieXRlTGVuZ3RoIC0gcG9zaXRpb24sIE1BWF9QQVlMT0FEX1NJWkUpOwogICAgICBjb25zdCBjaHVuayA9IG5ldyBVaW50OEFycmF5KGZpbGVEYXRhLCBwb3NpdGlvbiwgbGVuZ3RoKTsKICAgICAgcG9zaXRpb24gKz0gbGVuZ3RoOwoKICAgICAgY29uc3QgYmFzZTY0ID0gYnRvYShTdHJpbmcuZnJvbUNoYXJDb2RlLmFwcGx5KG51bGwsIGNodW5rKSk7CiAgICAgIHlpZWxkIHsKICAgICAgICByZXNwb25zZTogewogICAgICAgICAgYWN0aW9uOiAnYXBwZW5kJywKICAgICAgICAgIGZpbGU6IGZpbGUubmFtZSwKICAgICAgICAgIGRhdGE6IGJhc2U2NCwKICAgICAgICB9LAogICAgICB9OwoKICAgICAgbGV0IHBlcmNlbnREb25lID0gZmlsZURhdGEuYnl0ZUxlbmd0aCA9PT0gMCA/CiAgICAgICAgICAxMDAgOgogICAgICAgICAgTWF0aC5yb3VuZCgocG9zaXRpb24gLyBmaWxlRGF0YS5ieXRlTGVuZ3RoKSAqIDEwMCk7CiAgICAgIHBlcmNlbnQudGV4dENvbnRlbnQgPSBgJHtwZXJjZW50RG9uZX0lIGRvbmVgOwoKICAgIH0gd2hpbGUgKHBvc2l0aW9uIDwgZmlsZURhdGEuYnl0ZUxlbmd0aCk7CiAgfQoKICAvLyBBbGwgZG9uZS4KICB5aWVsZCB7CiAgICByZXNwb25zZTogewogICAgICBhY3Rpb246ICdjb21wbGV0ZScsCiAgICB9CiAgfTsKfQoKc2NvcGUuZ29vZ2xlID0gc2NvcGUuZ29vZ2xlIHx8IHt9OwpzY29wZS5nb29nbGUuY29sYWIgPSBzY29wZS5nb29nbGUuY29sYWIgfHwge307CnNjb3BlLmdvb2dsZS5jb2xhYi5fZmlsZXMgPSB7CiAgX3VwbG9hZEZpbGVzLAogIF91cGxvYWRGaWxlc0NvbnRpbnVlLAp9Owp9KShzZWxmKTsK",
              "ok": true,
              "headers": [
                [
                  "content-type",
                  "application/javascript"
                ]
              ],
              "status": 200,
              "status_text": ""
            }
          },
          "base_uri": "https://localhost:8080/",
          "height": 77
        },
        "id": "WklMQB7FcMfX",
        "outputId": "ff786b9b-5f24-47c6-c31a-de910e351be4"
      },
      "execution_count": null,
      "outputs": [
        {
          "output_type": "display_data",
          "data": {
            "text/html": [
              "\n",
              "     <input type=\"file\" id=\"files-64166c2c-d228-4fac-8168-3c9780155dd2\" name=\"files[]\" multiple disabled\n",
              "        style=\"border:none\" />\n",
              "     <output id=\"result-64166c2c-d228-4fac-8168-3c9780155dd2\">\n",
              "      Upload widget is only available when the cell has been executed in the\n",
              "      current browser session. Please rerun this cell to enable.\n",
              "      </output>\n",
              "      <script src=\"/nbextensions/google.colab/files.js\"></script> "
            ],
            "text/plain": [
              "<IPython.core.display.HTML object>"
            ]
          },
          "metadata": {}
        },
        {
          "output_type": "stream",
          "name": "stdout",
          "text": [
            "Saving samsung test.csv to samsung test.csv\n"
          ]
        }
      ]
    },
    {
      "cell_type": "markdown",
      "source": [
        "# Import Library"
      ],
      "metadata": {
        "id": "jwfNWeL2lTUR"
      }
    },
    {
      "cell_type": "code",
      "source": [
        "import pandas as pd\n",
        "import numpy as np\n",
        "import matplotlib.pyplot as plt\n",
        "from keras.models import Sequential\n",
        "from keras.layers import LSTM, Dropout, Dense, Activation\n",
        "# from keras.callbacks import TensorBoard, ModelCheckpoint, ReduceLROnPlateau\n",
        "import datetime"
      ],
      "metadata": {
        "id": "RRiG1R4x3NUq"
      },
      "execution_count": null,
      "outputs": []
    },
    {
      "cell_type": "markdown",
      "source": [
        "\n",
        "\n",
        "*   pandas : 데이터 분석을 위한 라이브러리\n",
        "*   numpy : 행렬 연산을 위한 라이브러리\n",
        "*   matplotlib : 예측 결과를 시각화하기 위한 라이브러리\n",
        "*   keras : 딥러닝 모델을 간편하게 사용하기 위한 프레임워크\n",
        "*   datetime : 년월일 시간을 다루기 위한 라이브러리\n",
        "\n"
      ],
      "metadata": {
        "id": "ZaJi6Bg6lFYY"
      }
    },
    {
      "cell_type": "markdown",
      "source": [
        "# Laod Dataset"
      ],
      "metadata": {
        "id": "PTDaIt_NnJaH"
      }
    },
    {
      "cell_type": "code",
      "source": [
        "data = pd.read_csv('samsung test.csv')\n",
        "display(data.head())\n",
        "data_index = data.index\n",
        "print(\"데이터 전체 행의 수 : \",len(data_index))\n",
        "print((data[\"High\"][1224]+data[\"High\"][1224])/2)"
      ],
      "metadata": {
        "colab": {
          "base_uri": "https://localhost:8080/",
          "height": 242
        },
        "id": "RGwGeNvocjMP",
        "outputId": "c2804a77-fd97-4887-8ae5-9353101dc1bd"
      },
      "execution_count": null,
      "outputs": [
        {
          "output_type": "display_data",
          "data": {
            "text/html": [
              "\n",
              "  <div id=\"df-2e819297-3752-4be1-b80a-018e19f3f54d\">\n",
              "    <div class=\"colab-df-container\">\n",
              "      <div>\n",
              "<style scoped>\n",
              "    .dataframe tbody tr th:only-of-type {\n",
              "        vertical-align: middle;\n",
              "    }\n",
              "\n",
              "    .dataframe tbody tr th {\n",
              "        vertical-align: top;\n",
              "    }\n",
              "\n",
              "    .dataframe thead th {\n",
              "        text-align: right;\n",
              "    }\n",
              "</style>\n",
              "<table border=\"1\" class=\"dataframe\">\n",
              "  <thead>\n",
              "    <tr style=\"text-align: right;\">\n",
              "      <th></th>\n",
              "      <th>Date</th>\n",
              "      <th>Open</th>\n",
              "      <th>High</th>\n",
              "      <th>Low</th>\n",
              "      <th>Close</th>\n",
              "      <th>Adj Close</th>\n",
              "      <th>Volume</th>\n",
              "    </tr>\n",
              "  </thead>\n",
              "  <tbody>\n",
              "    <tr>\n",
              "      <th>0</th>\n",
              "      <td>2017-02-09</td>\n",
              "      <td>38780.0</td>\n",
              "      <td>38840.0</td>\n",
              "      <td>38220.0</td>\n",
              "      <td>38400.0</td>\n",
              "      <td>33323.406250</td>\n",
              "      <td>13694150</td>\n",
              "    </tr>\n",
              "    <tr>\n",
              "      <th>1</th>\n",
              "      <td>2017-02-10</td>\n",
              "      <td>38400.0</td>\n",
              "      <td>38760.0</td>\n",
              "      <td>38300.0</td>\n",
              "      <td>38360.0</td>\n",
              "      <td>33288.691406</td>\n",
              "      <td>11020750</td>\n",
              "    </tr>\n",
              "    <tr>\n",
              "      <th>2</th>\n",
              "      <td>2017-02-13</td>\n",
              "      <td>37740.0</td>\n",
              "      <td>38060.0</td>\n",
              "      <td>37720.0</td>\n",
              "      <td>37960.0</td>\n",
              "      <td>32941.578125</td>\n",
              "      <td>11102050</td>\n",
              "    </tr>\n",
              "    <tr>\n",
              "      <th>3</th>\n",
              "      <td>2017-02-14</td>\n",
              "      <td>37960.0</td>\n",
              "      <td>38260.0</td>\n",
              "      <td>37320.0</td>\n",
              "      <td>37580.0</td>\n",
              "      <td>32611.806641</td>\n",
              "      <td>13124150</td>\n",
              "    </tr>\n",
              "    <tr>\n",
              "      <th>4</th>\n",
              "      <td>2017-02-15</td>\n",
              "      <td>37080.0</td>\n",
              "      <td>37960.0</td>\n",
              "      <td>37080.0</td>\n",
              "      <td>37720.0</td>\n",
              "      <td>32733.304688</td>\n",
              "      <td>14191550</td>\n",
              "    </tr>\n",
              "  </tbody>\n",
              "</table>\n",
              "</div>\n",
              "      <button class=\"colab-df-convert\" onclick=\"convertToInteractive('df-2e819297-3752-4be1-b80a-018e19f3f54d')\"\n",
              "              title=\"Convert this dataframe to an interactive table.\"\n",
              "              style=\"display:none;\">\n",
              "        \n",
              "  <svg xmlns=\"http://www.w3.org/2000/svg\" height=\"24px\"viewBox=\"0 0 24 24\"\n",
              "       width=\"24px\">\n",
              "    <path d=\"M0 0h24v24H0V0z\" fill=\"none\"/>\n",
              "    <path d=\"M18.56 5.44l.94 2.06.94-2.06 2.06-.94-2.06-.94-.94-2.06-.94 2.06-2.06.94zm-11 1L8.5 8.5l.94-2.06 2.06-.94-2.06-.94L8.5 2.5l-.94 2.06-2.06.94zm10 10l.94 2.06.94-2.06 2.06-.94-2.06-.94-.94-2.06-.94 2.06-2.06.94z\"/><path d=\"M17.41 7.96l-1.37-1.37c-.4-.4-.92-.59-1.43-.59-.52 0-1.04.2-1.43.59L10.3 9.45l-7.72 7.72c-.78.78-.78 2.05 0 2.83L4 21.41c.39.39.9.59 1.41.59.51 0 1.02-.2 1.41-.59l7.78-7.78 2.81-2.81c.8-.78.8-2.07 0-2.86zM5.41 20L4 18.59l7.72-7.72 1.47 1.35L5.41 20z\"/>\n",
              "  </svg>\n",
              "      </button>\n",
              "      \n",
              "  <style>\n",
              "    .colab-df-container {\n",
              "      display:flex;\n",
              "      flex-wrap:wrap;\n",
              "      gap: 12px;\n",
              "    }\n",
              "\n",
              "    .colab-df-convert {\n",
              "      background-color: #E8F0FE;\n",
              "      border: none;\n",
              "      border-radius: 50%;\n",
              "      cursor: pointer;\n",
              "      display: none;\n",
              "      fill: #1967D2;\n",
              "      height: 32px;\n",
              "      padding: 0 0 0 0;\n",
              "      width: 32px;\n",
              "    }\n",
              "\n",
              "    .colab-df-convert:hover {\n",
              "      background-color: #E2EBFA;\n",
              "      box-shadow: 0px 1px 2px rgba(60, 64, 67, 0.3), 0px 1px 3px 1px rgba(60, 64, 67, 0.15);\n",
              "      fill: #174EA6;\n",
              "    }\n",
              "\n",
              "    [theme=dark] .colab-df-convert {\n",
              "      background-color: #3B4455;\n",
              "      fill: #D2E3FC;\n",
              "    }\n",
              "\n",
              "    [theme=dark] .colab-df-convert:hover {\n",
              "      background-color: #434B5C;\n",
              "      box-shadow: 0px 1px 3px 1px rgba(0, 0, 0, 0.15);\n",
              "      filter: drop-shadow(0px 1px 2px rgba(0, 0, 0, 0.3));\n",
              "      fill: #FFFFFF;\n",
              "    }\n",
              "  </style>\n",
              "\n",
              "      <script>\n",
              "        const buttonEl =\n",
              "          document.querySelector('#df-2e819297-3752-4be1-b80a-018e19f3f54d button.colab-df-convert');\n",
              "        buttonEl.style.display =\n",
              "          google.colab.kernel.accessAllowed ? 'block' : 'none';\n",
              "\n",
              "        async function convertToInteractive(key) {\n",
              "          const element = document.querySelector('#df-2e819297-3752-4be1-b80a-018e19f3f54d');\n",
              "          const dataTable =\n",
              "            await google.colab.kernel.invokeFunction('convertToInteractive',\n",
              "                                                     [key], {});\n",
              "          if (!dataTable) return;\n",
              "\n",
              "          const docLinkHtml = 'Like what you see? Visit the ' +\n",
              "            '<a target=\"_blank\" href=https://colab.research.google.com/notebooks/data_table.ipynb>data table notebook</a>'\n",
              "            + ' to learn more about interactive tables.';\n",
              "          element.innerHTML = '';\n",
              "          dataTable['output_type'] = 'display_data';\n",
              "          await google.colab.output.renderOutput(dataTable, element);\n",
              "          const docLink = document.createElement('div');\n",
              "          docLink.innerHTML = docLinkHtml;\n",
              "          element.appendChild(docLink);\n",
              "        }\n",
              "      </script>\n",
              "    </div>\n",
              "  </div>\n",
              "  "
            ],
            "text/plain": [
              "         Date     Open     High      Low    Close     Adj Close    Volume\n",
              "0  2017-02-09  38780.0  38840.0  38220.0  38400.0  33323.406250  13694150\n",
              "1  2017-02-10  38400.0  38760.0  38300.0  38360.0  33288.691406  11020750\n",
              "2  2017-02-13  37740.0  38060.0  37720.0  37960.0  32941.578125  11102050\n",
              "3  2017-02-14  37960.0  38260.0  37320.0  37580.0  32611.806641  13124150\n",
              "4  2017-02-15  37080.0  37960.0  37080.0  37720.0  32733.304688  14191550"
            ]
          },
          "metadata": {}
        },
        {
          "output_type": "stream",
          "name": "stdout",
          "text": [
            "데이터 전체 행의 수 :  1225\n",
            "74700.0\n"
          ]
        }
      ]
    },
    {
      "cell_type": "markdown",
      "source": [
        "\n",
        "\n",
        "*   data : 학습, 예측에 사용할 시계열 데이터.\n",
        "*   저장된 시계열 데이터의 앞부분 1~5번째 데이터를 출력해 확인합니다.\n",
        "*   data_index : 데이터의 인덱스 행.\n",
        "*   저장된 data_index의 길이 즉, 데이터의 수를 확인합니다.\n",
        "\n",
        "▶ 삼성전자의 5년치 데이터는 날짜(Data), 시작가(Open), 최고가(Hige), 최저가(Low), 마감가(Close), 수정 종가(Adj Close), 거래 총량(Volume)라는 Feature들로 구성되어 있습니다.\n",
        "▶ 삼성전자의 5년치 데이터는 총 1225개입니다."
      ],
      "metadata": {
        "id": "RNldbI9wnOCG"
      }
    },
    {
      "cell_type": "markdown",
      "source": [
        "# Compute Mid Price"
      ],
      "metadata": {
        "id": "i3kr_gmWoA8J"
      }
    },
    {
      "cell_type": "code",
      "source": [
        "high_prices = data['High'].values\n",
        "low_prices = data['Low'].values\n",
        "mid_prices = (high_prices + low_prices) / 2"
      ],
      "metadata": {
        "id": "E3jRoVW5clRe"
      },
      "execution_count": null,
      "outputs": []
    },
    {
      "cell_type": "markdown",
      "source": [
        "\n",
        "\n",
        "*   high_prices : 삼성전자 데이터의 3열인 최고가(High)에 해당하는 5년치 데이터의 값.\n",
        "*   Low_prices : 삼성전자 데이터의 4열인 최저가(Low)에 해당하는 5년치 데이터의 값.\n",
        "*   mid_prices : 우리가 학습하고 예측에 사용할 하루의 최고값과 최저값의 평균인 중간값.\n",
        "\n"
      ],
      "metadata": {
        "id": "rxCpQMHloK_7"
      }
    },
    {
      "cell_type": "markdown",
      "source": [
        "# Create Windows"
      ],
      "metadata": {
        "id": "FqGpVJliqL3B"
      }
    },
    {
      "cell_type": "code",
      "source": [
        "seq_len = 50\n",
        "sequence_length = seq_len + 1\n",
        "\n",
        "window_list = []\n",
        "for index in range(len(mid_prices) - sequence_length):\n",
        "    window_list.append(mid_prices[index: index + sequence_length])\n",
        "print(\"첫번째 window : \",window_list[0])\n",
        "print(\"첫번째 window의 길이 : \",len(window_list[0]))\n",
        "print(\"window의 총개수 : \",len(window_list))"
      ],
      "metadata": {
        "id": "E0NvBAtvcmeG",
        "colab": {
          "base_uri": "https://localhost:8080/"
        },
        "outputId": "b7e0f8d7-88a4-44cd-f6c1-dad95b9db0d8"
      },
      "execution_count": null,
      "outputs": [
        {
          "output_type": "stream",
          "name": "stdout",
          "text": [
            "첫번째 window :  [38530. 38530. 37890. 37790. 37520. 38070. 37660. 38470. 38990. 39160.\n",
            " 39230. 38580. 37920. 38360. 39140. 39440. 39720. 40060. 40380. 40160.\n",
            " 40140. 40510. 41020. 41120. 41860. 42110. 41930. 42220. 42020. 42030.\n",
            " 41530. 41530. 41610. 41770. 42160. 41610. 41510. 41850. 41970. 41840.\n",
            " 41490. 41720. 41760. 41820. 42060. 42010. 41800. 41550. 41160. 40440.\n",
            " 40940.]\n",
            "첫번째 window의 길이 :  51\n",
            "window의 총개수 :  1174\n"
          ]
        }
      ]
    },
    {
      "cell_type": "markdown",
      "source": [
        "\n",
        "\n",
        "▶학습, 예측할 데이터 단위는 window 입니다.\n",
        "*   seq_len : 설정할 window의 학습 근거 데이터수.\n",
        "*   sequence_length : seq_len + seq_len를 근거로 예측할 데이터수.(window size)\n",
        "*   window_list : size가 51인 window들의 집합 리스트.<br/>\n",
        "&#35; 한칸씩 밀리면서 생성한 window를 저장할 빈 리스트 를 생성합니다.(여기에서 window는 numpy array입니다.)\n",
        "*   한칸씩 밀리면서 생성하기 위해 전체 행의수 1225개에서 51개를 뺀 수부터 반복을 시작합니다.(index = 0 ~ 1173)\n",
        "*   mid_prices에서 index ~ index+51 범위 값이 window이므로 window_list에 저장합니다.\n",
        "*   window_list의 첫번째 window는 2017-02-09 ~ 2017-04-21의 51개 데이터가 저장됩니다.\n",
        "*   windw의 총개수는 1174개이고, 한개의 window에 들어있는 데이터 개수는 51개 입니다.<br/>\n",
        "&#35; window : 51개의 데이터를 담고 있는 창문.<br/>\n",
        "&#35; window_data : window 속 데이터 1개.<br/>\n",
        "&#35; window_list : 1174개의 window를 모아놓은 리스트.\n"
      ],
      "metadata": {
        "id": "oLQD4V7kqQvN"
      }
    },
    {
      "cell_type": "markdown",
      "source": [
        "# Normalize Data"
      ],
      "metadata": {
        "id": "sIIXcf6FBKEr"
      }
    },
    {
      "cell_type": "code",
      "source": [
        "normalized_window_list = []\n",
        "for window in window_list:\n",
        "    normalized_window = [((float(window_data) / float(window[0])) - 1) for window_data in window]\n",
        "    normalized_window_list.append(normalized_window)\n",
        "\n",
        "result = np.array(normalized_window_list)"
      ],
      "metadata": {
        "id": "bt7kmntZcntp"
      },
      "execution_count": null,
      "outputs": []
    },
    {
      "cell_type": "markdown",
      "source": [
        "\n",
        "\n",
        "▶각 window의 첫번째 데이터를 0으로 잡고, 그 비율을 계산하여 정규화시킵니다.\n",
        "*   normalized_window_list : 정규화된 winddow의 집합 리스트.\n",
        "*   1174개의 window를 차례대로 반복 대입합니다.\n",
        "*   대입한 window는 51개의 데이터를 가지고 있고, 하나씩 꺼내어 window_data에 대입합니다.\n",
        "*   window_data는 1개의 데이터이며 각 window의 첫번째 window_data를 0으로 잡고, 비율을 계산합니다."
      ],
      "metadata": {
        "id": "VDKSnKp-Ba9x"
      }
    },
    {
      "cell_type": "markdown",
      "source": [
        "# Split Train and Test Data"
      ],
      "metadata": {
        "id": "RrFYDGfpEAmF"
      }
    },
    {
      "cell_type": "code",
      "source": [
        "print(\"result의 shape : \",result.shape)\n",
        "row = int(round(result.shape[0] * 0.9))\n",
        "print(\"훈련데이터수 : \",row)\n",
        "train = result[:row, :]\n",
        "print(\"train의 shape : \",train.shape)\n",
        "np.random.shuffle(train)\n",
        "\n",
        "x_train = train[:, :-1]\n",
        "print(\"x_train의 shape : \",x_train.shape)\n",
        "x_train = np.reshape(x_train, (x_train.shape[0], x_train.shape[1], 1))\n",
        "y_train = train[:, -1]\n",
        "print(\"y_train의 shape : \",y_train.shape)\n",
        "\n",
        "x_test = result[row:, :-1]\n",
        "print(\"x_test의 shape : \",x_test.shape)\n",
        "x_test = np.reshape(x_test, (x_test.shape[0], x_test.shape[1], 1))\n",
        "y_test = result[row:, -1]\n",
        "print(\"y_test의 shape : \",y_test.shape)\n",
        "\n",
        "x_train.shape, x_test.shape"
      ],
      "metadata": {
        "colab": {
          "base_uri": "https://localhost:8080/"
        },
        "id": "jhJ2xCLvEAsQ",
        "outputId": "b72ed2ee-9433-4f6c-982a-4c700952bd50"
      },
      "execution_count": null,
      "outputs": [
        {
          "output_type": "stream",
          "name": "stdout",
          "text": [
            "result의 shape :  (1174, 51)\n",
            "훈련데이터수 :  1057\n",
            "train의 shape :  (1057, 51)\n",
            "x_train의 shape :  (1057, 50)\n",
            "y_train의 shape :  (1057,)\n",
            "x_test의 shape :  (117, 50)\n",
            "2\n",
            "y_test의 shape :  (117,)\n"
          ]
        },
        {
          "output_type": "execute_result",
          "data": {
            "text/plain": [
              "((1057, 50, 1), (117, 50, 1))"
            ]
          },
          "metadata": {},
          "execution_count": 57
        }
      ]
    },
    {
      "cell_type": "markdown",
      "source": [
        "\n",
        "▶51개 데이터를 담은 1174개의 window 집합 2차 array인 result를 분리합니다.\n",
        "*   row : 정규화된 window들의 90%의 수.<br/>\n",
        "&#35; 정규화된 window 세트는 result에 저장되어 있으며 result.shape는 (행, 열)이고, 0번째 인덱스는 result에 들어있는 window 세트의 수를 의미합니다.\n",
        "*   train : result에서 0~row(1057)행에 해당하는 데이터.<br/>\n",
        "&#35; result[0] = 2017-02-09에서 2017-03 까지의 데이터이고, result[1057] = 2021-06-04부터 2021-08-17까지의 데이터 이므로 2021.08.17 이전 데이터를 학습하고 이후 데이터를 예측하게 됩니다.\n",
        "*   train 데이터를 무작위로 섞습니다.\n",
        "*   x_train : window의 90%에 해당하는 데이터 51개 중 제일 마지막 데이터를 제외한 데이터 50개.(input 데이터)\n",
        "*   LSTM 모델의 입력 노드는 50, 출력 노드는 1이므로 (50,1)로 reshape을 합니다.\n",
        "*   y_train : window의 90%에 해당하는 데이터 51개 중 제일 마지막 데이터 1개.(output 데이터)<br/>\n",
        "&#35; 이미지를 다룰때의 이미지(input), 정답(output)과 다름에 유의해야 합니다.\n",
        "*   x_test : window의 10%에 해당하는 데이터 51개 중 제일 마지막 데이터를 제외한 데이터 50개.(input 데이터)\n",
        "*   LSTM 모델의 입력 노드는 50, 출력 노드는 1이므로 (50,1)로 reshape을 합니다.\n",
        "*   y_test : window의 10%에 해당하는 데이터 51개 중 제일 마지막 데이터 1개.(output 데이터)\n"
      ],
      "metadata": {
        "id": "fc8uxMScEAzX"
      }
    },
    {
      "cell_type": "markdown",
      "source": [
        "# Build a Model"
      ],
      "metadata": {
        "id": "-J02mkmKVyTb"
      }
    },
    {
      "cell_type": "code",
      "source": [
        "model = Sequential()\n",
        "\n",
        "model.add(LSTM(50, return_sequences=True, input_shape=(50, 1)))\n",
        "\n",
        "model.add(LSTM(64, return_sequences=False))\n",
        "\n",
        "model.add(Dense(1, activation='linear'))\n",
        "\n",
        "model.compile(loss='mse', optimizer='rmsprop')\n",
        "\n",
        "model.summary()"
      ],
      "metadata": {
        "colab": {
          "base_uri": "https://localhost:8080/"
        },
        "id": "37nf-VVicroR",
        "outputId": "030b1993-eeff-42d4-82ae-c40f8f11b234"
      },
      "execution_count": null,
      "outputs": [
        {
          "output_type": "stream",
          "name": "stdout",
          "text": [
            "Model: \"sequential\"\n",
            "_________________________________________________________________\n",
            " Layer (type)                Output Shape              Param #   \n",
            "=================================================================\n",
            " lstm (LSTM)                 (None, 50, 50)            10400     \n",
            "                                                                 \n",
            " lstm_1 (LSTM)               (None, 64)                29440     \n",
            "                                                                 \n",
            " dense (Dense)               (None, 1)                 65        \n",
            "                                                                 \n",
            "=================================================================\n",
            "Total params: 39,905\n",
            "Trainable params: 39,905\n",
            "Non-trainable params: 0\n",
            "_________________________________________________________________\n"
          ]
        }
      ]
    },
    {
      "cell_type": "markdown",
      "source": [
        "\n",
        "\n",
        "*   model : keras의 seqential() 인스턴스.<br/>\n",
        "&#35; model은 텅빈 인스턴스로 add를 통해서 layer를 쌓아야 합니다.\n",
        "*   LSTM layer를 생성하고 sequntial에 추가합니다.\n",
        "&#35; 입력되는 데이터의 shape는 (50,1)입니다.\n",
        "*   출력 layer는 dense 함수를 이용하여 출력 노드 1개, 활성화 함수는 linear로 생성하여 추가합니다.\n",
        "*   compile 함수를 이용하여 손실함수는 mse, 옵티마이저는 rmsprop을 설정하고 생성하여 추가합니다.\n",
        "*   완성된 모델 인스턴스를 요약해서 출력합니다.\n"
      ],
      "metadata": {
        "id": "LbdZzGuieNrn"
      }
    },
    {
      "cell_type": "markdown",
      "source": [
        "# Training"
      ],
      "metadata": {
        "id": "lnQDLU8wi55p"
      }
    },
    {
      "cell_type": "code",
      "source": [
        "model.fit(x_train, y_train,\n",
        "    validation_data=(x_test, y_test),\n",
        "    batch_size=10,\n",
        "    epochs=20)"
      ],
      "metadata": {
        "id": "IL-03abacs3M",
        "colab": {
          "base_uri": "https://localhost:8080/"
        },
        "outputId": "4e626361-9f0a-460f-d028-934fddd8e230"
      },
      "execution_count": null,
      "outputs": [
        {
          "output_type": "stream",
          "name": "stdout",
          "text": [
            "Epoch 1/20\n",
            "106/106 [==============================] - 11s 60ms/step - loss: 0.0022 - val_loss: 7.3567e-04\n",
            "Epoch 2/20\n",
            "106/106 [==============================] - 5s 50ms/step - loss: 9.6230e-04 - val_loss: 5.5501e-04\n",
            "Epoch 3/20\n",
            "106/106 [==============================] - 5s 47ms/step - loss: 7.0997e-04 - val_loss: 3.6038e-04\n",
            "Epoch 4/20\n",
            "106/106 [==============================] - 5s 47ms/step - loss: 5.9704e-04 - val_loss: 2.2571e-04\n",
            "Epoch 5/20\n",
            "106/106 [==============================] - 5s 47ms/step - loss: 4.8066e-04 - val_loss: 2.0764e-04\n",
            "Epoch 6/20\n",
            "106/106 [==============================] - 5s 47ms/step - loss: 4.1808e-04 - val_loss: 1.6912e-04\n",
            "Epoch 7/20\n",
            "106/106 [==============================] - 5s 48ms/step - loss: 3.2923e-04 - val_loss: 4.1514e-04\n",
            "Epoch 8/20\n",
            "106/106 [==============================] - 5s 48ms/step - loss: 3.1588e-04 - val_loss: 2.0942e-04\n",
            "Epoch 9/20\n",
            "106/106 [==============================] - 5s 48ms/step - loss: 3.3407e-04 - val_loss: 1.2696e-04\n",
            "Epoch 10/20\n",
            "106/106 [==============================] - 5s 48ms/step - loss: 3.1147e-04 - val_loss: 1.7344e-04\n",
            "Epoch 11/20\n",
            "106/106 [==============================] - 6s 52ms/step - loss: 2.9792e-04 - val_loss: 1.2031e-04\n",
            "Epoch 12/20\n",
            "106/106 [==============================] - 5s 49ms/step - loss: 2.9472e-04 - val_loss: 1.9585e-04\n",
            "Epoch 13/20\n",
            "106/106 [==============================] - 5s 48ms/step - loss: 2.9784e-04 - val_loss: 1.8160e-04\n",
            "Epoch 14/20\n",
            "106/106 [==============================] - 5s 48ms/step - loss: 3.0833e-04 - val_loss: 1.1125e-04\n",
            "Epoch 15/20\n",
            "106/106 [==============================] - 5s 48ms/step - loss: 2.9043e-04 - val_loss: 1.1641e-04\n",
            "Epoch 16/20\n",
            "106/106 [==============================] - 5s 47ms/step - loss: 2.9309e-04 - val_loss: 1.1900e-04\n",
            "Epoch 17/20\n",
            "106/106 [==============================] - 5s 49ms/step - loss: 2.9195e-04 - val_loss: 1.6770e-04\n",
            "Epoch 18/20\n",
            "106/106 [==============================] - 5s 49ms/step - loss: 3.0380e-04 - val_loss: 1.7583e-04\n",
            "Epoch 19/20\n",
            "106/106 [==============================] - 5s 48ms/step - loss: 2.7862e-04 - val_loss: 1.6502e-04\n",
            "Epoch 20/20\n",
            "106/106 [==============================] - 5s 48ms/step - loss: 2.6978e-04 - val_loss: 1.5787e-04\n"
          ]
        },
        {
          "output_type": "execute_result",
          "data": {
            "text/plain": [
              "<keras.callbacks.History at 0x7fe0502469d0>"
            ]
          },
          "metadata": {},
          "execution_count": 12
        }
      ]
    },
    {
      "cell_type": "markdown",
      "source": [
        "\n",
        "\n",
        "*   완성된 모델을 fit함수를 이용하여 학습시킵니다.<br/>\n",
        "&#35; 준비했던 학습, 평가 데이터를 설정하고, batch의 크기는 10개로 에폭은 20으로 설정합니다.\n",
        "\n"
      ],
      "metadata": {
        "id": "0nFPhKuQjEwk"
      }
    },
    {
      "cell_type": "markdown",
      "source": [
        "# Prediction"
      ],
      "metadata": {
        "id": "SwKpTck9jaaI"
      }
    },
    {
      "cell_type": "code",
      "source": [
        "pred = model.predict(x_test)\n",
        "pred_table = []\n",
        "for i in pred:\n",
        "  pred_table.append((i+1)*float(window[0]))\n",
        "\n",
        "date = pd.date_range(start=\"20210831\", end=\"20220209\",freq='B')\n",
        "date_table = list(date)\n",
        "\n",
        "a = {'Date': date_table, 'Prices': pred_table}\n",
        "b = pd.DataFrame(a)\n",
        "\n",
        "display(b)"
      ],
      "metadata": {
        "colab": {
          "base_uri": "https://localhost:8080/",
          "height": 423
        },
        "id": "gmO8gRBJ3Pf3",
        "outputId": "7cb100b3-5f29-4103-a180-9cf279d76d22"
      },
      "execution_count": null,
      "outputs": [
        {
          "output_type": "display_data",
          "data": {
            "text/html": [
              "\n",
              "  <div id=\"df-890f953a-1e6f-42be-b06e-519d5b79bac3\">\n",
              "    <div class=\"colab-df-container\">\n",
              "      <div>\n",
              "<style scoped>\n",
              "    .dataframe tbody tr th:only-of-type {\n",
              "        vertical-align: middle;\n",
              "    }\n",
              "\n",
              "    .dataframe tbody tr th {\n",
              "        vertical-align: top;\n",
              "    }\n",
              "\n",
              "    .dataframe thead th {\n",
              "        text-align: right;\n",
              "    }\n",
              "</style>\n",
              "<table border=\"1\" class=\"dataframe\">\n",
              "  <thead>\n",
              "    <tr style=\"text-align: right;\">\n",
              "      <th></th>\n",
              "      <th>Date</th>\n",
              "      <th>Prices</th>\n",
              "    </tr>\n",
              "  </thead>\n",
              "  <tbody>\n",
              "    <tr>\n",
              "      <th>0</th>\n",
              "      <td>2021-08-31</td>\n",
              "      <td>[71431.15]</td>\n",
              "    </tr>\n",
              "    <tr>\n",
              "      <th>1</th>\n",
              "      <td>2021-09-01</td>\n",
              "      <td>[69084.68]</td>\n",
              "    </tr>\n",
              "    <tr>\n",
              "      <th>2</th>\n",
              "      <td>2021-09-02</td>\n",
              "      <td>[69146.08]</td>\n",
              "    </tr>\n",
              "    <tr>\n",
              "      <th>3</th>\n",
              "      <td>2021-09-03</td>\n",
              "      <td>[68987.375]</td>\n",
              "    </tr>\n",
              "    <tr>\n",
              "      <th>4</th>\n",
              "      <td>2021-09-06</td>\n",
              "      <td>[69319.74]</td>\n",
              "    </tr>\n",
              "    <tr>\n",
              "      <th>...</th>\n",
              "      <td>...</td>\n",
              "      <td>...</td>\n",
              "    </tr>\n",
              "    <tr>\n",
              "      <th>112</th>\n",
              "      <td>2022-02-03</td>\n",
              "      <td>[77005.016]</td>\n",
              "    </tr>\n",
              "    <tr>\n",
              "      <th>113</th>\n",
              "      <td>2022-02-04</td>\n",
              "      <td>[77613.16]</td>\n",
              "    </tr>\n",
              "    <tr>\n",
              "      <th>114</th>\n",
              "      <td>2022-02-07</td>\n",
              "      <td>[79476.65]</td>\n",
              "    </tr>\n",
              "    <tr>\n",
              "      <th>115</th>\n",
              "      <td>2022-02-08</td>\n",
              "      <td>[75473.18]</td>\n",
              "    </tr>\n",
              "    <tr>\n",
              "      <th>116</th>\n",
              "      <td>2022-02-09</td>\n",
              "      <td>[73243.76]</td>\n",
              "    </tr>\n",
              "  </tbody>\n",
              "</table>\n",
              "<p>117 rows × 2 columns</p>\n",
              "</div>\n",
              "      <button class=\"colab-df-convert\" onclick=\"convertToInteractive('df-890f953a-1e6f-42be-b06e-519d5b79bac3')\"\n",
              "              title=\"Convert this dataframe to an interactive table.\"\n",
              "              style=\"display:none;\">\n",
              "        \n",
              "  <svg xmlns=\"http://www.w3.org/2000/svg\" height=\"24px\"viewBox=\"0 0 24 24\"\n",
              "       width=\"24px\">\n",
              "    <path d=\"M0 0h24v24H0V0z\" fill=\"none\"/>\n",
              "    <path d=\"M18.56 5.44l.94 2.06.94-2.06 2.06-.94-2.06-.94-.94-2.06-.94 2.06-2.06.94zm-11 1L8.5 8.5l.94-2.06 2.06-.94-2.06-.94L8.5 2.5l-.94 2.06-2.06.94zm10 10l.94 2.06.94-2.06 2.06-.94-2.06-.94-.94-2.06-.94 2.06-2.06.94z\"/><path d=\"M17.41 7.96l-1.37-1.37c-.4-.4-.92-.59-1.43-.59-.52 0-1.04.2-1.43.59L10.3 9.45l-7.72 7.72c-.78.78-.78 2.05 0 2.83L4 21.41c.39.39.9.59 1.41.59.51 0 1.02-.2 1.41-.59l7.78-7.78 2.81-2.81c.8-.78.8-2.07 0-2.86zM5.41 20L4 18.59l7.72-7.72 1.47 1.35L5.41 20z\"/>\n",
              "  </svg>\n",
              "      </button>\n",
              "      \n",
              "  <style>\n",
              "    .colab-df-container {\n",
              "      display:flex;\n",
              "      flex-wrap:wrap;\n",
              "      gap: 12px;\n",
              "    }\n",
              "\n",
              "    .colab-df-convert {\n",
              "      background-color: #E8F0FE;\n",
              "      border: none;\n",
              "      border-radius: 50%;\n",
              "      cursor: pointer;\n",
              "      display: none;\n",
              "      fill: #1967D2;\n",
              "      height: 32px;\n",
              "      padding: 0 0 0 0;\n",
              "      width: 32px;\n",
              "    }\n",
              "\n",
              "    .colab-df-convert:hover {\n",
              "      background-color: #E2EBFA;\n",
              "      box-shadow: 0px 1px 2px rgba(60, 64, 67, 0.3), 0px 1px 3px 1px rgba(60, 64, 67, 0.15);\n",
              "      fill: #174EA6;\n",
              "    }\n",
              "\n",
              "    [theme=dark] .colab-df-convert {\n",
              "      background-color: #3B4455;\n",
              "      fill: #D2E3FC;\n",
              "    }\n",
              "\n",
              "    [theme=dark] .colab-df-convert:hover {\n",
              "      background-color: #434B5C;\n",
              "      box-shadow: 0px 1px 3px 1px rgba(0, 0, 0, 0.15);\n",
              "      filter: drop-shadow(0px 1px 2px rgba(0, 0, 0, 0.3));\n",
              "      fill: #FFFFFF;\n",
              "    }\n",
              "  </style>\n",
              "\n",
              "      <script>\n",
              "        const buttonEl =\n",
              "          document.querySelector('#df-890f953a-1e6f-42be-b06e-519d5b79bac3 button.colab-df-convert');\n",
              "        buttonEl.style.display =\n",
              "          google.colab.kernel.accessAllowed ? 'block' : 'none';\n",
              "\n",
              "        async function convertToInteractive(key) {\n",
              "          const element = document.querySelector('#df-890f953a-1e6f-42be-b06e-519d5b79bac3');\n",
              "          const dataTable =\n",
              "            await google.colab.kernel.invokeFunction('convertToInteractive',\n",
              "                                                     [key], {});\n",
              "          if (!dataTable) return;\n",
              "\n",
              "          const docLinkHtml = 'Like what you see? Visit the ' +\n",
              "            '<a target=\"_blank\" href=https://colab.research.google.com/notebooks/data_table.ipynb>data table notebook</a>'\n",
              "            + ' to learn more about interactive tables.';\n",
              "          element.innerHTML = '';\n",
              "          dataTable['output_type'] = 'display_data';\n",
              "          await google.colab.output.renderOutput(dataTable, element);\n",
              "          const docLink = document.createElement('div');\n",
              "          docLink.innerHTML = docLinkHtml;\n",
              "          element.appendChild(docLink);\n",
              "        }\n",
              "      </script>\n",
              "    </div>\n",
              "  </div>\n",
              "  "
            ],
            "text/plain": [
              "          Date       Prices\n",
              "0   2021-08-31   [71431.15]\n",
              "1   2021-09-01   [69084.68]\n",
              "2   2021-09-02   [69146.08]\n",
              "3   2021-09-03  [68987.375]\n",
              "4   2021-09-06   [69319.74]\n",
              "..         ...          ...\n",
              "112 2022-02-03  [77005.016]\n",
              "113 2022-02-04   [77613.16]\n",
              "114 2022-02-07   [79476.65]\n",
              "115 2022-02-08   [75473.18]\n",
              "116 2022-02-09   [73243.76]\n",
              "\n",
              "[117 rows x 2 columns]"
            ]
          },
          "metadata": {}
        }
      ]
    },
    {
      "cell_type": "markdown",
      "source": [
        "\n",
        "\n",
        "*   pred : 학습된 모델이 x_test에 대한 예측값을 모아놓은 array.\n",
        "*   정규화된 모델 예측값을 다시 역연산하고, pred_table에 추가합니다.\n",
        "*   date : 판다스의 date_range함수를 사용하여 2021-08-31부터 2022-02-09 범위의 주중 날짜.\n",
        "*   date의 자료형을 리스트로 변환하고, date_table과 pred_table을 이용하여 DataFrame을 생성합니다.\n",
        "\n"
      ],
      "metadata": {
        "id": "Re-yONS83Poe"
      }
    },
    {
      "cell_type": "markdown",
      "source": [
        "# Data Visualization"
      ],
      "metadata": {
        "id": "f_UODeLd3QWj"
      }
    },
    {
      "cell_type": "code",
      "source": [
        "fig = plt.figure(facecolor='white', figsize=(10, 5))\n",
        "plt.xlabel(\"Date\")\n",
        "plt.ylabel(\"Prices\")\n",
        "ax = fig.add_subplot(111)\n",
        "ax.plot(y_test, label='True')\n",
        "ax.plot(pred, label='Prediction')\n",
        "ax.legend()\n",
        "plt.show()"
      ],
      "metadata": {
        "colab": {
          "base_uri": "https://localhost:8080/",
          "height": 390
        },
        "id": "udUAKmPucuoh",
        "outputId": "08943118-6b2f-4fef-c5cd-e40a090fdf80"
      },
      "execution_count": null,
      "outputs": [
        {
          "output_type": "stream",
          "name": "stderr",
          "text": [
            "/usr/local/lib/python3.7/dist-packages/ipykernel_launcher.py:4: MatplotlibDeprecationWarning: Adding an axes using the same arguments as a previous axes currently reuses the earlier instance.  In a future version, a new instance will always be created and returned.  Meanwhile, this warning can be suppressed, and the future behavior ensured, by passing a unique label to each axes instance.\n",
            "  after removing the cwd from sys.path.\n"
          ]
        },
        {
          "output_type": "display_data",
          "data": {
            "image/png": "[encoded data removed]",
            "text/plain": [
              "<Figure size 720x360 with 1 Axes>"
            ]
          },
          "metadata": {}
        }
      ]
    },
    {
      "cell_type": "markdown",
      "source": [
        "# Price Forecast for Tomorrow"
      ],
      "metadata": {
        "id": "0xGNKUjoFKq7"
      }
    },
    {
      "cell_type": "code",
      "source": [
        "to_data = result[1173, 1:]\n",
        "to_x_data = np.reshape(to_data, (1,to_data.shape[0], 1))\n",
        "\n",
        "to_pred = model.predict(to_x_data)\n",
        "to_pred_table = []\n",
        "for i in to_pred:\n",
        "  to_pred_table.append((i+1)*float(window[0]))\n",
        "\n",
        "a = {'Date': [\"2022-02-10\"], 'Prices': to_pred_table}\n",
        "b = pd.DataFrame(a)\n",
        "\n",
        "display(b)"
      ],
      "metadata": {
        "colab": {
          "base_uri": "https://localhost:8080/",
          "height": 81
        },
        "id": "5q0fj6uRFK27",
        "outputId": "f495a0c0-ebab-46fa-bcac-0e8952d478e4"
      },
      "execution_count": null,
      "outputs": [
        {
          "output_type": "display_data",
          "data": {
            "text/html": [
              "\n",
              "  <div id=\"df-b4358797-b2be-435d-b6a1-af51435b0df2\">\n",
              "    <div class=\"colab-df-container\">\n",
              "      <div>\n",
              "<style scoped>\n",
              "    .dataframe tbody tr th:only-of-type {\n",
              "        vertical-align: middle;\n",
              "    }\n",
              "\n",
              "    .dataframe tbody tr th {\n",
              "        vertical-align: top;\n",
              "    }\n",
              "\n",
              "    .dataframe thead th {\n",
              "        text-align: right;\n",
              "    }\n",
              "</style>\n",
              "<table border=\"1\" class=\"dataframe\">\n",
              "  <thead>\n",
              "    <tr style=\"text-align: right;\">\n",
              "      <th></th>\n",
              "      <th>Date</th>\n",
              "      <th>Prices</th>\n",
              "    </tr>\n",
              "  </thead>\n",
              "  <tbody>\n",
              "    <tr>\n",
              "      <th>0</th>\n",
              "      <td>2022-02-10</td>\n",
              "      <td>[73488.13]</td>\n",
              "    </tr>\n",
              "  </tbody>\n",
              "</table>\n",
              "</div>\n",
              "      <button class=\"colab-df-convert\" onclick=\"convertToInteractive('df-b4358797-b2be-435d-b6a1-af51435b0df2')\"\n",
              "              title=\"Convert this dataframe to an interactive table.\"\n",
              "              style=\"display:none;\">\n",
              "        \n",
              "  <svg xmlns=\"http://www.w3.org/2000/svg\" height=\"24px\"viewBox=\"0 0 24 24\"\n",
              "       width=\"24px\">\n",
              "    <path d=\"M0 0h24v24H0V0z\" fill=\"none\"/>\n",
              "    <path d=\"M18.56 5.44l.94 2.06.94-2.06 2.06-.94-2.06-.94-.94-2.06-.94 2.06-2.06.94zm-11 1L8.5 8.5l.94-2.06 2.06-.94-2.06-.94L8.5 2.5l-.94 2.06-2.06.94zm10 10l.94 2.06.94-2.06 2.06-.94-2.06-.94-.94-2.06-.94 2.06-2.06.94z\"/><path d=\"M17.41 7.96l-1.37-1.37c-.4-.4-.92-.59-1.43-.59-.52 0-1.04.2-1.43.59L10.3 9.45l-7.72 7.72c-.78.78-.78 2.05 0 2.83L4 21.41c.39.39.9.59 1.41.59.51 0 1.02-.2 1.41-.59l7.78-7.78 2.81-2.81c.8-.78.8-2.07 0-2.86zM5.41 20L4 18.59l7.72-7.72 1.47 1.35L5.41 20z\"/>\n",
              "  </svg>\n",
              "      </button>\n",
              "      \n",
              "  <style>\n",
              "    .colab-df-container {\n",
              "      display:flex;\n",
              "      flex-wrap:wrap;\n",
              "      gap: 12px;\n",
              "    }\n",
              "\n",
              "    .colab-df-convert {\n",
              "      background-color: #E8F0FE;\n",
              "      border: none;\n",
              "      border-radius: 50%;\n",
              "      cursor: pointer;\n",
              "      display: none;\n",
              "      fill: #1967D2;\n",
              "      height: 32px;\n",
              "      padding: 0 0 0 0;\n",
              "      width: 32px;\n",
              "    }\n",
              "\n",
              "    .colab-df-convert:hover {\n",
              "      background-color: #E2EBFA;\n",
              "      box-shadow: 0px 1px 2px rgba(60, 64, 67, 0.3), 0px 1px 3px 1px rgba(60, 64, 67, 0.15);\n",
              "      fill: #174EA6;\n",
              "    }\n",
              "\n",
              "    [theme=dark] .colab-df-convert {\n",
              "      background-color: #3B4455;\n",
              "      fill: #D2E3FC;\n",
              "    }\n",
              "\n",
              "    [theme=dark] .colab-df-convert:hover {\n",
              "      background-color: #434B5C;\n",
              "      box-shadow: 0px 1px 3px 1px rgba(0, 0, 0, 0.15);\n",
              "      filter: drop-shadow(0px 1px 2px rgba(0, 0, 0, 0.3));\n",
              "      fill: #FFFFFF;\n",
              "    }\n",
              "  </style>\n",
              "\n",
              "      <script>\n",
              "        const buttonEl =\n",
              "          document.querySelector('#df-b4358797-b2be-435d-b6a1-af51435b0df2 button.colab-df-convert');\n",
              "        buttonEl.style.display =\n",
              "          google.colab.kernel.accessAllowed ? 'block' : 'none';\n",
              "\n",
              "        async function convertToInteractive(key) {\n",
              "          const element = document.querySelector('#df-b4358797-b2be-435d-b6a1-af51435b0df2');\n",
              "          const dataTable =\n",
              "            await google.colab.kernel.invokeFunction('convertToInteractive',\n",
              "                                                     [key], {});\n",
              "          if (!dataTable) return;\n",
              "\n",
              "          const docLinkHtml = 'Like what you see? Visit the ' +\n",
              "            '<a target=\"_blank\" href=https://colab.research.google.com/notebooks/data_table.ipynb>data table notebook</a>'\n",
              "            + ' to learn more about interactive tables.';\n",
              "          element.innerHTML = '';\n",
              "          dataTable['output_type'] = 'display_data';\n",
              "          await google.colab.output.renderOutput(dataTable, element);\n",
              "          const docLink = document.createElement('div');\n",
              "          docLink.innerHTML = docLinkHtml;\n",
              "          element.appendChild(docLink);\n",
              "        }\n",
              "      </script>\n",
              "    </div>\n",
              "  </div>\n",
              "  "
            ],
            "text/plain": [
              "         Date      Prices\n",
              "0  2022-02-10  [73488.13]"
            ]
          },
          "metadata": {}
        }
      ]
    },
    {
      "cell_type": "markdown",
      "source": [
        "# Price Forecast for Week"
      ],
      "metadata": {
        "id": "riDHH-uPM9sf"
      }
    },
    {
      "cell_type": "code",
      "source": [
        "new_data = np.concatenate(np.reshape(1,to_data[1:]),to_pred)\n",
        "\n"
      ],
      "metadata": {
        "id": "8kZLozSdM913"
      },
      "execution_count": null,
      "outputs": []
    }
  ]
}